{
 "cells": [
  {
   "cell_type": "markdown",
   "metadata": {},
   "source": [
    "# They say it's risky, should I go?"
   ]
  },
  {
   "cell_type": "code",
   "execution_count": 1,
   "metadata": {},
   "outputs": [
    {
     "data": {
      "text/html": [
       "<script>requirejs.config({paths: { 'plotly': ['https://cdn.plot.ly/plotly-latest.min']},});if(!window.Plotly) {{require(['plotly'],function(plotly) {window.Plotly=plotly;});}}</script>"
      ],
      "text/vnd.plotly.v1+html": [
       "<script>requirejs.config({paths: { 'plotly': ['https://cdn.plot.ly/plotly-latest.min']},});if(!window.Plotly) {{require(['plotly'],function(plotly) {window.Plotly=plotly;});}}</script>"
      ]
     },
     "metadata": {},
     "output_type": "display_data"
    }
   ],
   "source": [
    "import pandas as pd\n",
    "import numpy as np\n",
    "import seaborn as sns\n",
    "import matplotlib.pyplot as plt\n",
    "%matplotlib inline\n",
    "import warnings\n",
    "warnings.filterwarnings('ignore')\n",
    "import plotly.plotly as py\n",
    "from plotly.graph_objs import *\n",
    "from plotly.offline import download_plotlyjs, init_notebook_mode, plot, iplot\n",
    "init_notebook_mode(connected=True)\n",
    "import folium\n",
    "import branca\n",
    "import json\n",
    "import math "
   ]
  },
  {
   "cell_type": "markdown",
   "metadata": {},
   "source": [
    "##### Data loading:\n",
    "We load fatal avalanche accidents datasets of the past 15 years."
   ]
  },
  {
   "cell_type": "code",
   "execution_count": 2,
   "metadata": {
    "collapsed": true,
    "scrolled": false
   },
   "outputs": [],
   "source": [
    "df_accidents = pd.read_excel('../data/accidents/df_accidents_final.xlsx')"
   ]
  },
  {
   "cell_type": "markdown",
   "metadata": {},
   "source": [
    "###  Off-piste skiing or Backcountry touring ?\n",
    "\n",
    "For which activity do we see most of the accidents ?"
   ]
  },
  {
   "cell_type": "code",
   "execution_count": 3,
   "metadata": {},
   "outputs": [
    {
     "data": {
      "image/png": "[encoded data removed]",
      "text/plain": [
       "<matplotlib.figure.Figure at 0x1148d36d8>"
      ]
     },
     "metadata": {},
     "output_type": "display_data"
    }
   ],
   "source": [
    "fig, ax = plt.subplots(1, sharey=True);\n",
    "\n",
    "sns.countplot(x=\"Activity\", data=df_accidents, ax=ax);\n",
    "ax.set_title('Avalanches accidents activity');\n",
    "ax.set_xlabel('Activity');\n",
    "ax.set_ylabel('Count');"
   ]
  },
  {
   "cell_type": "markdown",
   "metadata": {},
   "source": [
    "More accidents are related to backcountry touring activity. But from this result, we can not conclude which activity is safer.\n",
    "\n",
    "Moreover, in which conditions do the skiiers go on a ride, depending on their activity ?\n",
    "<br>\n",
    "Is there a class of persons that is more educated on avalanche risks ?\n",
    "\n",
    "In order to limit avalanche risk, it is important to be aware of the destructive power of avalanches, understand when and why they happen (snow and meteorological conditions). \n",
    "One of the main factor allowing to avoid accidents is increasing the awareness of the risks. And this begins with consulting the avalanche danger level before going on a ride.\n",
    "\n",
    "Thus, it could be interesting to study skiiers' behaviour, and see if, depending on the activity (backcountry or off-piste), one group has a tendancy to be more risky considering avalanche danger levels. \n",
    "To answer this question, we decided to count the number of accidents per danger level, considering two groups: people doing backcountry touring and people doing off-piste skiing."
   ]
  },
  {
   "cell_type": "code",
   "execution_count": 4,
   "metadata": {},
   "outputs": [
    {
     "data": {
      "image/png": "[encoded data removed]",
      "text/plain": [
       "<matplotlib.figure.Figure at 0x1149607f0>"
      ]
     },
     "metadata": {},
     "output_type": "display_data"
    }
   ],
   "source": [
    "fig, ax = plt.subplots(1, sharey=True, figsize=(15,5));\n",
    "\n",
    "g = sns.countplot(x=\"Activity\", hue = 'Danger level', data=df_accidents, ax = ax);\n",
    "ax.set_title('Avalanches accidents activity per danger level with propensity score matching');\n",
    "ax.set_xlabel('Activity');\n",
    "ax.set_ylabel('Count');"
   ]
  },
  {
   "cell_type": "markdown",
   "metadata": {},
   "source": [
    "From this result, we see that backcountry related accidents have a mean danger level lower than off-piste related accidents. Thus it seems that people doing off-piste skiing have a tendancy to be more risky considering avalanche danger levels.\n",
    "But to be more accurate and give more weight to this statement, it could be interesting to balance the dataset in order to match each data point from the backcountry group with exactly one data point from the off-piste group.\n",
    "Only danger levels 2 and 3 are taken into account in this analysis, as the other danger levels can be considered as outliers."
   ]
  },
  {
   "cell_type": "markdown",
   "metadata": {},
   "source": [
    "##### Propensity score matching:\n",
    "\n",
    "Our hypothesis states that the behaviour of skiiers may depend on the activity they are doing.\n",
    "\n",
    "But to draw valid conclusions, a propensity score matching is done. Propensity score purpose is to balance the dataset across treatment groups.\n",
    "<br>\n",
    "Propensity scores are used to match each data point from the treated group with exactly one data point from the control group. The matching allows to maximize the similarity between matched subjects, by balancing feature-value distributions between the two groups. \n",
    "<br> For example, comparing accidents data between one group gathering 6 backcountry accidents that caught 8 people at the end of the season with another group gathering 90 off-piste accidents that caught 150 people is not very relevant, due to the group's size difference and the non similarity between features such as elevation, aspect, month. \n",
    "\n",
    "<br>\n",
    "In our case, the features taken into account for the matching are the aspect, the elevation, the month and the number of people caught in the avalanche."
   ]
  },
  {
   "cell_type": "code",
   "execution_count": 5,
   "metadata": {
    "collapsed": true
   },
   "outputs": [],
   "source": [
    "from sklearn import linear_model \n",
    "# Groups: activity --> backcountry and hors piste\n",
    "cardinals = ['N','NNE','NE','ENE','E','ESE','SE','SSE','S','SSW','SW','WSW','W','WNW','NW','NNW']\n",
    "\n",
    "# Keep only 2 activities we want to compare\n",
    "df = df_accidents[df_accidents.Activity != 'Transportation']\n",
    "df = df[df.Activity != 'Building']\n",
    "\n",
    "df = df[df['Danger level'].apply(lambda d: d in [2,3])] # Keep only danger levels 2 and 3\n",
    "df['month'] = df.date.apply(lambda d: d.month)\n",
    "df = df.set_index(['date','Longitude','Latitude'])\n",
    "\n",
    "# Create dic of aspect to get numerical values from aspect categories\n",
    "aspect_cos = {}\n",
    "aspect_sin = {}\n",
    "for val, aspect in enumerate(cardinals):\n",
    "    aspect_cos[aspect]=math.cos(val*(math.pi/8))\n",
    "    aspect_sin[aspect]=math.sin(val*(math.pi/8))\n",
    "\n",
    "df['cos_aspect'] = df.Aspect.replace(aspect_cos)\n",
    "df['sin_aspect'] = df.Aspect.replace(aspect_sin)"
   ]
  },
  {
   "cell_type": "code",
   "execution_count": 6,
   "metadata": {
    "collapsed": true
   },
   "outputs": [],
   "source": [
    "# Create feature matrix\n",
    "features = df[['Activity','cos_aspect','sin_aspect','Elevation','month','caught','Danger level']]\n",
    "features['Activity'] = features['Activity'].apply(lambda x: 1 if x == 'Backcountry touring' else 0)\n",
    "features = features.dropna()\n",
    "\n",
    "# Create data matrix\n",
    "data = features\n",
    "features = features.drop(['Danger level','Activity'], axis = 1)"
   ]
  },
  {
   "cell_type": "markdown",
   "metadata": {},
   "source": [
    "Use logistic regression to estimate propensity scores for all points in the dataset."
   ]
  },
  {
   "cell_type": "code",
   "execution_count": 7,
   "metadata": {},
   "outputs": [
    {
     "name": "stdout",
     "output_type": "stream",
     "text": [
      "accuracy:  0.605809128631\n"
     ]
    }
   ],
   "source": [
    "model = linear_model.LogisticRegression()\n",
    "model.fit(features, data.Activity)\n",
    "pred = model.predict(features)\n",
    "\n",
    "accuracy = sum(pred == data.Activity) / len(data.Activity)\n",
    "print('accuracy: ', accuracy)"
   ]
  },
  {
   "cell_type": "markdown",
   "metadata": {},
   "source": [
    "The propensity scores are calculated and added to the dataframe"
   ]
  },
  {
   "cell_type": "code",
   "execution_count": 8,
   "metadata": {},
   "outputs": [
    {
     "data": {
      "text/html": [
       "<div>\n",
       "<style>\n",
       "    .dataframe thead tr:only-child th {\n",
       "        text-align: right;\n",
       "    }\n",
       "\n",
       "    .dataframe thead th {\n",
       "        text-align: left;\n",
       "    }\n",
       "\n",
       "    .dataframe tbody tr th {\n",
       "        vertical-align: top;\n",
       "    }\n",
       "</style>\n",
       "<table border=\"1\" class=\"dataframe\">\n",
       "  <thead>\n",
       "    <tr style=\"text-align: right;\">\n",
       "      <th></th>\n",
       "      <th></th>\n",
       "      <th></th>\n",
       "      <th>Activity</th>\n",
       "      <th>cos_aspect</th>\n",
       "      <th>sin_aspect</th>\n",
       "      <th>Elevation</th>\n",
       "      <th>month</th>\n",
       "      <th>caught</th>\n",
       "      <th>Danger level</th>\n",
       "      <th>propensity_score</th>\n",
       "    </tr>\n",
       "    <tr>\n",
       "      <th>date</th>\n",
       "      <th>Longitude</th>\n",
       "      <th>Latitude</th>\n",
       "      <th></th>\n",
       "      <th></th>\n",
       "      <th></th>\n",
       "      <th></th>\n",
       "      <th></th>\n",
       "      <th></th>\n",
       "      <th></th>\n",
       "      <th></th>\n",
       "    </tr>\n",
       "  </thead>\n",
       "  <tbody>\n",
       "    <tr>\n",
       "      <th>2002-01-02</th>\n",
       "      <th>7.528077</th>\n",
       "      <th>46.546476</th>\n",
       "      <td>1</td>\n",
       "      <td>9.238795e-01</td>\n",
       "      <td>-0.382683</td>\n",
       "      <td>2360</td>\n",
       "      <td>1</td>\n",
       "      <td>1</td>\n",
       "      <td>3.0</td>\n",
       "      <td>0.502397</td>\n",
       "    </tr>\n",
       "    <tr>\n",
       "      <th>2002-01-03</th>\n",
       "      <th>9.815028</th>\n",
       "      <th>46.855337</th>\n",
       "      <td>0</td>\n",
       "      <td>-1.836970e-16</td>\n",
       "      <td>-1.000000</td>\n",
       "      <td>2400</td>\n",
       "      <td>1</td>\n",
       "      <td>1</td>\n",
       "      <td>3.0</td>\n",
       "      <td>0.393845</td>\n",
       "    </tr>\n",
       "    <tr>\n",
       "      <th>2002-01-13</th>\n",
       "      <th>9.830075</th>\n",
       "      <th>46.836754</th>\n",
       "      <td>0</td>\n",
       "      <td>6.123234e-17</td>\n",
       "      <td>1.000000</td>\n",
       "      <td>2240</td>\n",
       "      <td>1</td>\n",
       "      <td>1</td>\n",
       "      <td>2.0</td>\n",
       "      <td>0.467169</td>\n",
       "    </tr>\n",
       "  </tbody>\n",
       "</table>\n",
       "</div>"
      ],
      "text/plain": [
       "                                Activity    cos_aspect  sin_aspect  Elevation  \\\n",
       "date       Longitude Latitude                                                   \n",
       "2002-01-02 7.528077  46.546476         1  9.238795e-01   -0.382683       2360   \n",
       "2002-01-03 9.815028  46.855337         0 -1.836970e-16   -1.000000       2400   \n",
       "2002-01-13 9.830075  46.836754         0  6.123234e-17    1.000000       2240   \n",
       "\n",
       "                                month  caught  Danger level  propensity_score  \n",
       "date       Longitude Latitude                                                  \n",
       "2002-01-02 7.528077  46.546476      1       1           3.0          0.502397  \n",
       "2002-01-03 9.815028  46.855337      1       1           3.0          0.393845  \n",
       "2002-01-13 9.830075  46.836754      1       1           2.0          0.467169  "
      ]
     },
     "execution_count": 8,
     "metadata": {},
     "output_type": "execute_result"
    }
   ],
   "source": [
    "# Get propensity score\n",
    "pscore = model.predict_proba(features)\n",
    "data = data.assign(propensity_score = pscore[:,0])\n",
    "data.head(3)"
   ]
  },
  {
   "cell_type": "markdown",
   "metadata": {},
   "source": [
    "The propensity scores are used to match each data point from the backcountry skiing group with exactly one data point from the off-piste skiing group. To do that, we decided to use networkx package and work with DiGraph, which corresponds to directed graph with self loops."
   ]
  },
  {
   "cell_type": "code",
   "execution_count": 9,
   "metadata": {
    "collapsed": true
   },
   "outputs": [],
   "source": [
    "import networkx as nx\n",
    "\n",
    "G = nx.DiGraph()\n",
    "\n",
    "# add a node for each sample\n",
    "for i, row in data.iterrows():\n",
    "    G.add_node(row.name, propensity=row['propensity_score'], Activity=row['Activity'])\n",
    "\n",
    "# add an edge between treated control with propensity diff as weight\n",
    "for n1, att1 in G.nodes(data=True):\n",
    "    for n2, att2 in G.nodes(data=True):\n",
    "        if att1['Activity'] == 1 and att2['Activity'] == 0:\n",
    "            diff = abs(att1['propensity'] - att2['propensity'])\n",
    "            G.add_edge(n1, n2, weight=1-diff)\n",
    "\n",
    "matchings = nx.max_weight_matching(G)"
   ]
  },
  {
   "cell_type": "markdown",
   "metadata": {},
   "source": [
    "Doublons are found for the matching.\n",
    "So we split the matching output to get only unique matches (93 in total, as it should)."
   ]
  },
  {
   "cell_type": "code",
   "execution_count": 10,
   "metadata": {
    "collapsed": true
   },
   "outputs": [],
   "source": [
    "matchings\n",
    "true_matching = {}\n",
    "\n",
    "for treat,no_treat in matchings.items():\n",
    "    if treat not in true_matching.values():\n",
    "        true_matching[treat] = no_treat"
   ]
  },
  {
   "cell_type": "markdown",
   "metadata": {},
   "source": [
    "The new matching is applied to our dataset."
   ]
  },
  {
   "cell_type": "code",
   "execution_count": 11,
   "metadata": {
    "collapsed": true
   },
   "outputs": [],
   "source": [
    "# Assign propensity score matching to the dataframe to keep only matched datapoints\n",
    "data_offpiste = data.loc[[off_piste for backcountry, off_piste in true_matching.items()]]\n",
    "\n",
    "# Assign propensity score matching to the dataframe to keep only matched datapoints\n",
    "data_backcountry = data.loc[[backcountry for backcountry, off_piste in true_matching.items()]]"
   ]
  },
  {
   "cell_type": "code",
   "execution_count": 12,
   "metadata": {},
   "outputs": [
    {
     "data": {
      "image/png": "[encoded data removed]",
      "text/plain": [
       "<matplotlib.figure.Figure at 0x115b66828>"
      ]
     },
     "metadata": {},
     "output_type": "display_data"
    }
   ],
   "source": [
    "data_new = pd.concat([data_offpiste, data_backcountry])\n",
    "fig, ax = plt.subplots(1, sharey=True, figsize=(15,5));\n",
    "\n",
    "g = sns.countplot(x=\"Activity\", hue = 'Danger level', data=data_new, ax = ax);\n",
    "g.set(xticklabels=['Off-piste skiing','Backcountry touring'])\n",
    "ax.set_title('Avalanches accidents activity per danger level with propensity score matching');\n",
    "ax.set_xlabel('Activity');\n",
    "ax.set_ylabel('Count');"
   ]
  },
  {
   "cell_type": "markdown",
   "metadata": {},
   "source": [
    "From our results, accidents due to backcountry activity show in general reduced danger levels compared to accidents caused by off-piste skiing. This could suggest a difference of behaviour between both groups. Indeed, this result could be explained by the fact that people doing backcountry touring have a better knowledge and awareness of the risks than people doing off-piste skiing.\n",
    "\n",
    "It could also be interesting to confirm our hypothesis by applying a statistical test.\n",
    "Thus, we investigate the mean difference of avalanche danger levels between the two groups, which are off-piste skiing group and backcountry touring group.\n",
    "To do that, we decided to perform an independant 2 sample t-test to test if, wether or not, the difference in danger level is significant between the groups. So our hypothesis are:\n",
    "\n",
    "- $H_0$: There is no difference between the two means\n",
    "- $H_1$: There is a difference between the two means"
   ]
  },
  {
   "cell_type": "code",
   "execution_count": 14,
   "metadata": {},
   "outputs": [
    {
     "name": "stdout",
     "output_type": "stream",
     "text": [
      "p = 0.016938 -> The independent 2 sample student t-test rejects the null Hypothesis\n"
     ]
    }
   ],
   "source": [
    "# Student t-test\n",
    "from scipy import stats\n",
    "t, p = stats.ttest_ind(data_offpiste['Danger level'], data_backcountry['Danger level'])\n",
    "\n",
    "if p < 0.05:\n",
    "    print( 'p = %f -> The independent 2 sample student t-test rejects the null Hypothesis' % p)"
   ]
  },
  {
   "cell_type": "code",
   "execution_count": 16,
   "metadata": {},
   "outputs": [
    {
     "data": {
      "text/plain": [
       "2.774193548387097"
      ]
     },
     "execution_count": 16,
     "metadata": {},
     "output_type": "execute_result"
    }
   ],
   "source": [
    "data_offpiste['Danger level'].mean()"
   ]
  },
  {
   "cell_type": "code",
   "execution_count": 18,
   "metadata": {},
   "outputs": [
    {
     "data": {
      "text/plain": [
       "2.6129032258064515"
      ]
     },
     "execution_count": 18,
     "metadata": {},
     "output_type": "execute_result"
    }
   ],
   "source": [
    "data_backcountry['Danger level'].mean()"
   ]
  },
  {
   "cell_type": "markdown",
   "metadata": {},
   "source": [
    "The student t-test gives a p-value lower than 0.05, and let us reject $H_1$. A propensity score matching was asessed to balance the dataset in order to draw proper conclusions. Thus, a preventive behaviour may allow to reduce the avalanche risk."
   ]
  },
  {
   "cell_type": "code",
   "execution_count": null,
   "metadata": {},
   "outputs": [],
   "source": []
  }
 ],
 "metadata": {
  "kernelspec": {
   "display_name": "Python 3",
   "language": "python",
   "name": "python3"
  },
  "language_info": {
   "codemirror_mode": {
    "name": "ipython",
    "version": 3
   },
   "file_extension": ".py",
   "mimetype": "text/x-python",
   "name": "python",
   "nbconvert_exporter": "python",
   "pygments_lexer": "ipython3",
   "version": "3.6.2"
  }
 },
 "nbformat": 4,
 "nbformat_minor": 2
}
