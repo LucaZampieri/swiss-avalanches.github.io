{
 "cells": [
  {
   "cell_type": "markdown",
   "metadata": {},
   "source": [
    "<h1><center> They say it's risky, should I go?</center></h1>"
   ]
  },
  {
   "cell_type": "markdown",
   "metadata": {},
   "source": [
    "![avalanche](../images/avalanche2.gif)"
   ]
  },
  {
   "cell_type": "code",
   "execution_count": 78,
   "metadata": {},
   "outputs": [
    {
     "data": {
      "text/html": [
       "<script>requirejs.config({paths: { 'plotly': ['https://cdn.plot.ly/plotly-latest.min']},});if(!window.Plotly) {{require(['plotly'],function(plotly) {window.Plotly=plotly;});}}</script>"
      ],
      "text/vnd.plotly.v1+html": [
       "<script>requirejs.config({paths: { 'plotly': ['https://cdn.plot.ly/plotly-latest.min']},});if(!window.Plotly) {{require(['plotly'],function(plotly) {window.Plotly=plotly;});}}</script>"
      ]
     },
     "metadata": {},
     "output_type": "display_data"
    }
   ],
   "source": [
    "import pandas as pd\n",
    "import numpy as np\n",
    "import seaborn as sns\n",
    "import matplotlib.pyplot as plt\n",
    "%matplotlib inline\n",
    "import warnings\n",
    "warnings.filterwarnings('ignore')\n",
    "import plotly.plotly as py\n",
    "from plotly.graph_objs import *\n",
    "from plotly.offline import download_plotlyjs, init_notebook_mode, plot, iplot\n",
    "init_notebook_mode(connected=True)"
   ]
  },
  {
   "cell_type": "markdown",
   "metadata": {},
   "source": [
    "##### Data loading:\n",
    "We load fatal avalanche accidents datasets of the past 15 years."
   ]
  },
  {
   "cell_type": "code",
   "execution_count": 2,
   "metadata": {
    "collapsed": true,
    "scrolled": false
   },
   "outputs": [],
   "source": [
    "df_accidents = pd.read_excel('../data/accidents/df_accidents_final.xlsx')"
   ]
  },
  {
   "cell_type": "markdown",
   "metadata": {},
   "source": [
    "In the news, who has not seen articles relating deadly avalanche accidents ?\n",
    "\n",
    "![avalanche](../images/accident_31_01_2015.jpg)\n",
    "\n",
    "This photo was taken after an avalanche accident that killed 5 skiers at the Piz Vilan mountain. Here is the avalanche accident information taken from our dataset:"
   ]
  },
  {
   "cell_type": "code",
   "execution_count": 3,
   "metadata": {},
   "outputs": [
    {
     "data": {
      "text/plain": [
       "date             2015-01-31 00:00:00\n",
       "Canton                            GR\n",
       "Starting zone    Seewis im Prättigau\n",
       "Elevation                       2340\n",
       "Aspect                             E\n",
       "Activity         Backcountry touring\n",
       "Danger level                       3\n",
       "caught                             8\n",
       "buried                             7\n",
       "killed                             5\n",
       "Latitude                     47.0128\n",
       "Longitude                    9.60505\n",
       "temperature                   -11.04\n",
       "wind                           fort \n",
       "Name: 236, dtype: object"
      ]
     },
     "execution_count": 3,
     "metadata": {},
     "output_type": "execute_result"
    }
   ],
   "source": [
    "df_accidents.loc[236]"
   ]
  },
  {
   "cell_type": "markdown",
   "metadata": {},
   "source": [
    "- How many accidents are recensed each year ?\n",
    "- Are there aspects associated with higher risks ?\n",
    "- Do correlations exist between accidents and the danger levels, the altitude... ?\n",
    "\n",
    "These questions are among the few we will try to answer by investigating avalanche accidents data.\n",
    "\n",
    "But first, it is important to get a representation of the impact of avalanches, and their situation in Switzerland."
   ]
  },
  {
   "cell_type": "code",
   "execution_count": 4,
   "metadata": {
    "collapsed": true
   },
   "outputs": [],
   "source": [
    "#swiss map"
   ]
  },
  {
   "cell_type": "markdown",
   "metadata": {},
   "source": [
    "### Accidents evolution over time:"
   ]
  },
  {
   "cell_type": "markdown",
   "metadata": {},
   "source": [
    "Knowing that an increasing number of people is skiing each year and do backcountry activity or off-piste skiing, we could suppose that the number of avalanche accidents is increasing each year. But is this true ?"
   ]
  },
  {
   "cell_type": "code",
   "execution_count": 80,
   "metadata": {
    "scrolled": false
   },
   "outputs": [
    {
     "data": {
      "text/html": [
       "<iframe id=\"igraph\" scrolling=\"no\" style=\"border:none;\" seamless=\"seamless\" src=\"https://plot.ly/~arnaud_les/11.embed\" height=\"525px\" width=\"100%\"></iframe>"
      ],
      "text/plain": [
       "<plotly.tools.PlotlyDisplay object>"
      ]
     },
     "execution_count": 80,
     "metadata": {},
     "output_type": "execute_result"
    }
   ],
   "source": [
    "df_accidents['year'] = df_accidents.date.apply(lambda d: d.year)\n",
    "\n",
    "data = []\n",
    "for canton in df_accidents['Canton'].unique():\n",
    "    trace = Bar(\n",
    "                x = df_accidents['year'].unique(),\n",
    "                y = df_accidents[df_accidents['Canton']== canton].groupby(by='year')['date'].count(),\n",
    "                name = canton\n",
    "                )\n",
    "    data.append(trace)\n",
    "\n",
    "layout = Layout(title=\"Number of avalanches accidents per year\",\n",
    "                xaxis=dict(title='Year'),\n",
    "                yaxis=dict(title='Count'), \n",
    "                barmode = 'stack')\n",
    "fig = Figure(data=data, layout = layout)\n",
    "py.iplot(fig, filename='avalanche_time_evolution')"
   ]
  },
  {
   "cell_type": "markdown",
   "metadata": {},
   "source": [
    "Except a peak in 2014, there does not seem to be a significant increase in avalanche accidents along time. Even if backcountry touring and offpiste skiing have become more popular, resulting in an increase in people being at risk to be caught in avalanches, there has been an effort to prevent accidents by the authorities and make people aware of dangers they are facing, which allows to reduce risks."
   ]
  },
  {
   "cell_type": "markdown",
   "metadata": {},
   "source": [
    "### Inspecting the aspect"
   ]
  },
  {
   "cell_type": "markdown",
   "metadata": {},
   "source": [
    "The aspect a slope is facing plays an important role in the creation of avalanche conditions.\n",
    "In mid-winter, steep north-facing slopes are not exposed to any direct solar radiation. A south-facing slope falls to the south and also receives regular sunshine, even in mid-winter. It is common in springtime to see naturally triggered loose snow avalanches in the middle of the day. \n",
    "<br>\n",
    "Thus, due to sun exposition at the end of the ski season, south-facing slope could possibly be more favourable to avalanches than in the beginning or middle of winter.\n",
    "\n",
    "That is why the evolution of aspects between the beginning, the middle and the end of season are investigated."
   ]
  },
  {
   "cell_type": "code",
   "execution_count": 6,
   "metadata": {
    "collapsed": true
   },
   "outputs": [],
   "source": [
    "order = ['N','NNE','NE','ENE','E','ESE','SE','SSE','S','SSW','SW','WSW','W','WNW','NW','NNW']\n",
    "start_date = [9, 0, 3]\n",
    "end_date = [12, 3, 6]\n",
    "vec_season = ['start','middle','end']\n",
    "ratio = ['start_ratio','middle_ratio','end_ratio']\n",
    "name = ['start of season','middle of season','end of season']\n",
    "\n",
    "def get_ratio (start_date, end_date):\n",
    "        \n",
    "    mask = [(date.month > start_date) & (date.month <= end_date) for date in df_accidents['date']]\n",
    "    total = df_accidents[mask]['Aspect'].value_counts().sum()\n",
    "    aspect_ratio = (df_accidents[mask]['Aspect'].value_counts() / total)*100\n",
    "    aspect_ratio = aspect_ratio.reset_index()\n",
    "    aspect_ratio.columns = ['Aspect','Ratio']\n",
    "    \n",
    "    return aspect_ratio"
   ]
  },
  {
   "cell_type": "code",
   "execution_count": 10,
   "metadata": {
    "scrolled": false
   },
   "outputs": [
    {
     "data": {
      "text/html": [
       "<iframe id=\"igraph\" scrolling=\"no\" style=\"border:none;\" seamless=\"seamless\" src=\"https://plot.ly/~arnaud_les/13.embed\" height=\"525px\" width=\"100%\"></iframe>"
      ],
      "text/plain": [
       "<plotly.tools.PlotlyDisplay object>"
      ]
     },
     "execution_count": 10,
     "metadata": {},
     "output_type": "execute_result"
    }
   ],
   "source": [
    "for season_time in range(0,3):\n",
    "    aspect_ratio = get_ratio(start_date[season_time],end_date[season_time])\n",
    "    exec(\"aspect_ratio%d = aspect_ratio\" % (season_time))\n",
    "\n",
    "aspect_ratio_final = aspect_ratio.merge(aspect_ratio0.merge(aspect_ratio1, on = 'Aspect', how = 'outer'), on = 'Aspect', how = 'outer')\n",
    "aspect_ratio_final.columns = ['Aspect','end_ratio','start_ratio','middle_ratio']\n",
    "aspect_ratio_final = aspect_ratio_final.set_index('Aspect').reindex(order) \n",
    "\n",
    "data = []\n",
    "for r in range(3):\n",
    "    trace = Bar(\n",
    "                x = aspect_ratio_final.loc['S'],#.index.values,\n",
    "                y = aspect_ratio_final.loc['S',ratio[r]],#[ratio[r]],\n",
    "                name = name[r])\n",
    "    data.append(trace)\n",
    "\n",
    "layout = Layout(title=\"Frequency of avalanche accidents for south aspect\",\n",
    "                xaxis=dict(title='Aspect'),\n",
    "                yaxis=dict(title='Frequency'), \n",
    "                )\n",
    "fig = Figure(data=data, layout = layout)\n",
    "py.iplot(fig, filename='avlanche_aspect_evolution')"
   ]
  },
  {
   "cell_type": "markdown",
   "metadata": {},
   "source": [
    "We can see that considering south aspect accidents, most of them are at the end of the season."
   ]
  },
  {
   "cell_type": "markdown",
   "metadata": {},
   "source": [
    "###  Off-piste skiing or Backcountry touring ?\n",
    "\n",
    "For which activity do we see most of the accidents ?"
   ]
  },
  {
   "cell_type": "code",
   "execution_count": 15,
   "metadata": {},
   "outputs": [
    {
     "data": {
      "image/png": "[encoded data removed]",
      "text/plain": [
       "<matplotlib.figure.Figure at 0x28a6f767668>"
      ]
     },
     "metadata": {},
     "output_type": "display_data"
    }
   ],
   "source": [
    "fig, ax = plt.subplots(1, sharey=True);\n",
    "\n",
    "sns.countplot(x=\"Activity\", data=df_accidents, ax=ax);\n",
    "ax.set_title('Avalanches accidents activity');\n",
    "ax.set_xlabel('Activity');\n",
    "ax.set_ylabel('Count');"
   ]
  },
  {
   "cell_type": "markdown",
   "metadata": {},
   "source": [
    "More accidents are related to backcountry touring activity.\n",
    "\n",
    "But in which conditions do the skiiers go on a ride, depending on their activity ?\n",
    "<br>\n",
    "Is there a class of persons that is more educated on avalanche risks ?\n",
    "\n",
    "In order to limit avalanche risk, it is important to be aware of the destructive power of avalanches, understand when and why they happen (snow and meteorological conditions). \n",
    "One of the main factor allowing to avoid accidents is increasing the awareness of the risks. And this begins with consulting the avalanche danger level before going on a ride.\n",
    "\n",
    "Thus, it could be interesting to study skiiers' behaviour, and see if, depending on the activity (backcountry or off-piste), one group has a tendancy to be more risky considering avalanche danger levels. \n",
    "To answer this question, we decided to count the number of accidents per danger level, considering two groups: people doing backcountry touring and people doing off-piste skiing."
   ]
  },
  {
   "cell_type": "markdown",
   "metadata": {},
   "source": [
    "##### Propensity score matching:\n",
    "\n",
    "Our hypothesis states that the behaviour of skiiers may depend on the activity they are doing.\n",
    "\n",
    "But do draw valid conclusions, a propensity score matching is done. Propensity score purpose is to balance the dataset across treatment groups.\n",
    "<br>\n",
    "Propensity scores are used to match each data point from the treated group with exactly one data point from the control group. The matching allows to maximize the similarity between matched subjects, by balancing feature-value distributions between the two groups. \n",
    "<br>\n",
    "In our case, the features taken into account for the matching are the aspect, the elevation and the temperature."
   ]
  },
  {
   "cell_type": "code",
   "execution_count": 12,
   "metadata": {
    "collapsed": true
   },
   "outputs": [],
   "source": [
    "from sklearn import linear_model \n",
    "# Groups: activity --> backcountry and hors piste\n",
    "# Label: Danger level \n",
    "# Features --> Elevation \n",
    "#              Aspect\n",
    "#              Temperature\n",
    "\n",
    "# Create dic of aspect to get numerical values from aspect categories\n",
    "aspect_dic = {}\n",
    "for val, aspect in enumerate(order):\n",
    "    aspect_dic[aspect]=val"
   ]
  },
  {
   "cell_type": "code",
   "execution_count": 48,
   "metadata": {},
   "outputs": [],
   "source": [
    "# Keep only 2 activities\n",
    "df = df_accidents[df_accidents.Activity != 'Transportation']\n",
    "df = df[df.Activity != 'Building']\n",
    "df = df.set_index(['date','Longitude','Latitude'])\n",
    "\n",
    "# Create feature matrix\n",
    "features = df[['Activity','Aspect','Elevation','temperature','caught','Danger level']]\n",
    "features.Aspect = features.Aspect.replace(aspect_dic)\n",
    "features['Activity'] = features['Activity'].apply(lambda x: 1 if x == 'Backcountry touring' else 0)\n",
    "features = features.dropna()\n",
    "\n",
    "# Create data matrix\n",
    "data = features\n",
    "features = features.drop(['Danger level','Activity'], axis = 1)"
   ]
  },
  {
   "cell_type": "markdown",
   "metadata": {},
   "source": [
    "_Use logistic regression to estimate propensity scores for all points in the dataset._"
   ]
  },
  {
   "cell_type": "code",
   "execution_count": 49,
   "metadata": {},
   "outputs": [
    {
     "name": "stdout",
     "output_type": "stream",
     "text": [
      "accuracy:  0.613636363636\n"
     ]
    }
   ],
   "source": [
    "model = linear_model.LogisticRegression()\n",
    "model.fit(features, data.Activity)\n",
    "pred = model.predict(features)\n",
    "\n",
    "accuracy = sum(pred == data.Activity) / len(data.Activity)\n",
    "print('accuracy: ', accuracy)"
   ]
  },
  {
   "cell_type": "markdown",
   "metadata": {},
   "source": [
    "The propensity scores are calculated and added to the dataframe"
   ]
  },
  {
   "cell_type": "code",
   "execution_count": 50,
   "metadata": {},
   "outputs": [
    {
     "data": {
      "text/html": [
       "<div>\n",
       "<style>\n",
       "    .dataframe thead tr:only-child th {\n",
       "        text-align: right;\n",
       "    }\n",
       "\n",
       "    .dataframe thead th {\n",
       "        text-align: left;\n",
       "    }\n",
       "\n",
       "    .dataframe tbody tr th {\n",
       "        vertical-align: top;\n",
       "    }\n",
       "</style>\n",
       "<table border=\"1\" class=\"dataframe\">\n",
       "  <thead>\n",
       "    <tr style=\"text-align: right;\">\n",
       "      <th></th>\n",
       "      <th></th>\n",
       "      <th></th>\n",
       "      <th>Activity</th>\n",
       "      <th>Aspect</th>\n",
       "      <th>Elevation</th>\n",
       "      <th>temperature</th>\n",
       "      <th>caught</th>\n",
       "      <th>Danger level</th>\n",
       "      <th>propensity_score</th>\n",
       "    </tr>\n",
       "    <tr>\n",
       "      <th>date</th>\n",
       "      <th>Longitude</th>\n",
       "      <th>Latitude</th>\n",
       "      <th></th>\n",
       "      <th></th>\n",
       "      <th></th>\n",
       "      <th></th>\n",
       "      <th></th>\n",
       "      <th></th>\n",
       "      <th></th>\n",
       "    </tr>\n",
       "  </thead>\n",
       "  <tbody>\n",
       "    <tr>\n",
       "      <th>2002-01-02</th>\n",
       "      <th>7.528077</th>\n",
       "      <th>46.546476</th>\n",
       "      <td>1</td>\n",
       "      <td>15.0</td>\n",
       "      <td>2360</td>\n",
       "      <td>-8.16</td>\n",
       "      <td>1</td>\n",
       "      <td>3.0</td>\n",
       "      <td>0.361802</td>\n",
       "    </tr>\n",
       "    <tr>\n",
       "      <th>2002-01-03</th>\n",
       "      <th>9.815028</th>\n",
       "      <th>46.855337</th>\n",
       "      <td>0</td>\n",
       "      <td>12.0</td>\n",
       "      <td>2400</td>\n",
       "      <td>-4.40</td>\n",
       "      <td>1</td>\n",
       "      <td>3.0</td>\n",
       "      <td>0.361473</td>\n",
       "    </tr>\n",
       "    <tr>\n",
       "      <th>2002-01-13</th>\n",
       "      <th>9.830075</th>\n",
       "      <th>46.836754</th>\n",
       "      <td>0</td>\n",
       "      <td>4.0</td>\n",
       "      <td>2240</td>\n",
       "      <td>-1.44</td>\n",
       "      <td>1</td>\n",
       "      <td>2.0</td>\n",
       "      <td>0.408638</td>\n",
       "    </tr>\n",
       "  </tbody>\n",
       "</table>\n",
       "</div>"
      ],
      "text/plain": [
       "                                Activity  Aspect  Elevation  temperature  \\\n",
       "date       Longitude Latitude                                              \n",
       "2002-01-02 7.528077  46.546476         1    15.0       2360        -8.16   \n",
       "2002-01-03 9.815028  46.855337         0    12.0       2400        -4.40   \n",
       "2002-01-13 9.830075  46.836754         0     4.0       2240        -1.44   \n",
       "\n",
       "                                caught  Danger level  propensity_score  \n",
       "date       Longitude Latitude                                           \n",
       "2002-01-02 7.528077  46.546476       1           3.0          0.361802  \n",
       "2002-01-03 9.815028  46.855337       1           3.0          0.361473  \n",
       "2002-01-13 9.830075  46.836754       1           2.0          0.408638  "
      ]
     },
     "execution_count": 50,
     "metadata": {},
     "output_type": "execute_result"
    }
   ],
   "source": [
    "# Get propensity score\n",
    "pscore = model.predict_proba(features)\n",
    "data = data.assign(propensity_score = pscore[:,0])\n",
    "data.head(3)"
   ]
  },
  {
   "cell_type": "markdown",
   "metadata": {},
   "source": [
    "The propensity scores are used to match each data point from the backcountry skiing group with exactly one data point from the off-piste skiing group. To do that, we decided to use networkx package and work with DiGraph, which corresponds to directed graph with self loops."
   ]
  },
  {
   "cell_type": "code",
   "execution_count": 51,
   "metadata": {
    "collapsed": true
   },
   "outputs": [],
   "source": [
    "import networkx as nx\n",
    "\n",
    "G = nx.DiGraph()\n",
    "\n",
    "# add a node for each sample\n",
    "for i, row in data.iterrows():\n",
    "    G.add_node(row.name, propensity=row['propensity_score'], Activity=row['Activity'])\n",
    "\n",
    "# add an edge between treated control with propensity diff as weight\n",
    "for n1, att1 in G.nodes(data=True):\n",
    "    for n2, att2 in G.nodes(data=True):\n",
    "        if att1['Activity'] == 1 and att2['Activity'] == 0:\n",
    "            diff = abs(att1['propensity'] - att2['propensity'])\n",
    "            G.add_edge(n1, n2, weight=1-diff)\n",
    "\n",
    "matchings = nx.max_weight_matching(G)"
   ]
  },
  {
   "cell_type": "markdown",
   "metadata": {},
   "source": [
    "Doublons are found for the matching.\n",
    "So we split the matching output to get only unique matches (85 in total, as it should)."
   ]
  },
  {
   "cell_type": "code",
   "execution_count": 52,
   "metadata": {
    "collapsed": true
   },
   "outputs": [],
   "source": [
    "matchings\n",
    "true_matching = {}\n",
    "\n",
    "for treat,no_treat in matchings.items():\n",
    "    if treat not in true_matching.values():\n",
    "        true_matching[treat] = no_treat"
   ]
  },
  {
   "cell_type": "markdown",
   "metadata": {},
   "source": [
    "The new matching is aplied to our dataset."
   ]
  },
  {
   "cell_type": "code",
   "execution_count": 53,
   "metadata": {
    "collapsed": true
   },
   "outputs": [],
   "source": [
    "# Assign propensity score matching to the dataframe to keep only matched datapoints\n",
    "data_offpiste = data.loc[[off_piste for backcountry, off_piste in true_matching.items()]]\n",
    "\n",
    "# Assign propensity score matching to the dataframe to keep only matched datapoints\n",
    "data_backcountry = data.loc[[backcountry for backcountry, off_piste in true_matching.items()]]"
   ]
  },
  {
   "cell_type": "code",
   "execution_count": 54,
   "metadata": {},
   "outputs": [
    {
     "data": {
      "image/png": "[encoded data removed]",
      "text/plain": [
       "<matplotlib.figure.Figure at 0x2342ff592b0>"
      ]
     },
     "metadata": {},
     "output_type": "display_data"
    }
   ],
   "source": [
    "data_new = pd.concat([data_offpiste,data_backcountry])\n",
    "fig, ax = plt.subplots(1, sharey=True, figsize=(15,5));\n",
    "\n",
    "g = sns.countplot(x=\"Activity\", hue = 'Danger level', data=data_new, ax = ax);\n",
    "g.set(xticklabels=['Off-piste skiing','Backcountry touring'])\n",
    "ax.set_title('Avalanches accidents activity per danger level with propensity score matching');\n",
    "ax.set_xlabel('Activity');\n",
    "ax.set_ylabel('Count');"
   ]
  },
  {
   "cell_type": "code",
   "execution_count": 58,
   "metadata": {},
   "outputs": [],
   "source": [
    "# Student t-test\n",
    "from scipy import stats\n",
    "t, p = stats.ttest_ind(data_offpiste['Danger level'], data_backcountry['Danger level'])\n",
    "\n",
    "if p<0.05:\n",
    "    print( 'p = %f --> The independant 2 sample student t-test does reject the null Hypothesis' %p)"
   ]
  },
  {
   "cell_type": "code",
   "execution_count": 73,
   "metadata": {},
   "outputs": [
    {
     "name": "stdout",
     "output_type": "stream",
     "text": [
      "2.7176470588235295\n",
      "2.6470588235294117\n"
     ]
    }
   ],
   "source": [
    "print(data_offpiste['Danger level'].mean())\n",
    "print(data_backcountry['Danger level'].mean())"
   ]
  },
  {
   "cell_type": "code",
   "execution_count": null,
   "metadata": {
    "collapsed": true
   },
   "outputs": [],
   "source": []
  }
 ],
 "metadata": {
  "kernelspec": {
   "display_name": "Python 3",
   "language": "python",
   "name": "python3"
  },
  "language_info": {
   "codemirror_mode": {
    "name": "ipython",
    "version": 3
   },
   "file_extension": ".py",
   "mimetype": "text/x-python",
   "name": "python",
   "nbconvert_exporter": "python",
   "pygments_lexer": "ipython3",
   "version": "3.6.1"
  }
 },
 "nbformat": 4,
 "nbformat_minor": 2
}
