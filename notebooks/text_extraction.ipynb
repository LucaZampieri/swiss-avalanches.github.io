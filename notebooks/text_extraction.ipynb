{
 "cells": [
  {
   "cell_type": "markdown",
   "metadata": {},
   "source": [
    "# Text extraction\n",
    "\n",
    "In this section, we show how temperatures and wind data from 2002 until now are extracted from avalanche reports that we previously downloaded."
   ]
  },
  {
   "cell_type": "markdown",
   "metadata": {},
   "source": [
    "## 1: Temperature extraction:"
   ]
  },
  {
   "cell_type": "code",
   "execution_count": 202,
   "metadata": {
    "collapsed": true
   },
   "outputs": [],
   "source": [
    "import numpy as np\n",
    "import pandas as pd\n",
    "import re\n",
    "import glob\n",
    "import os\n",
    "import dateutil"
   ]
  },
  {
   "cell_type": "markdown",
   "metadata": {},
   "source": [
    "We define some functions that will be used to extract temperatures from text."
   ]
  },
  {
   "cell_type": "code",
   "execution_count": 203,
   "metadata": {
    "collapsed": true
   },
   "outputs": [],
   "source": [
    "# regex pattern used to select the temperature data\n",
    "temperature_pattern = re.compile(r\"(moins |plus )?(\\d+) degre\", re.IGNORECASE)\n",
    "paragraph_pattern = re.compile(r\"(Rtrospective mto)?(.)?(Perspective mto)\", re.IGNORECASE)\n",
    "CONTEXT = 25\n",
    "main_directions = ['nord', 'sud', 'est', 'ouest']\n",
    "directions = main_directions + ['nord-est', 'nord-ouest', 'sud-est', 'sud-ouest']\n",
    "\n",
    "\n",
    "def replace_words(string, tokenize_map):\n",
    "    \"\"\"Replace similar words by a token\n",
    "    tokenize_map should be a dict(word -> token)\n",
    "    \"\"\"\n",
    "    for w, t in tokenize_map.items():\n",
    "        string = string.replace(w, t)\n",
    "    return string\n",
    "\n",
    "def get_paragraph(content,year):\n",
    "    \"\"\"Return the paragraph that contains the temperatures\n",
    "    returns the paragraph string\n",
    "    \"\"\"\n",
    "    paragraph = None\n",
    "    if year<2013:\n",
    "        for text in content.split('\\n\\n\\n'):\n",
    "            text = text.lower()\n",
    "            if 'situation generale' in text:\n",
    "                paragraph = text\n",
    "    else:\n",
    "        for match in re.compile(r\"Rtrospective mto(.*)Perspective mto\", re.IGNORECASE).finditer(content.replace('\\n',' ')):\n",
    "            paragraph = match[0]\n",
    "            \n",
    "    return paragraph\n",
    "            \n",
    "\n",
    "def extract_temperatures(paragraph):\n",
    "    \"\"\"Obtain the location for each temperature\n",
    "    returns a dict(region -> temperature)\n",
    "    \"\"\"\n",
    "    result = {}\n",
    "    \n",
    "    ts = []\n",
    "    for match in temperature_pattern.finditer(paragraph):\n",
    "        sign = -1 if match[1] == 'moins ' else 1\n",
    "        value = int(match[2])\n",
    "        end = match.end()\n",
    "        ts.append((sign * value, end))\n",
    "    \n",
    "    if len(ts) == 1:\n",
    "        result['default'] = ts[0][0]\n",
    "    elif len(ts) > 1:\n",
    "        for value, end in ts:\n",
    "            for direction in main_directions:\n",
    "                if direction in paragraph[end:end + CONTEXT]:\n",
    "                    result[direction] = value\n",
    "                    break\n",
    "    \n",
    "    return result\n",
    "    \n",
    "tokens = {\n",
    "    'degre': ['degré', 'degrés', 'degre', 'degres', 'degree', 'degrees', 'degrée', 'degrées', '°', '°C', '° C'],\n",
    "    'plus ': ['+', 'jusqu\\'au-dela de ', 'au-dela '],\n",
    "    'moins ': ['-'],\n",
    "    'situation generale': ['situation générale', 'COUVERTURE NEIGEUSE'],\n",
    "    'Rtrospective mto':['Rétrospective mto', 'Retrospective meteo','Rtrospective mtorologique', 'Retrospective meteorologique'],\n",
    "    'Perspective mto':['Perspective meteo','Tendance','tendance'],\n",
    "    'plus 0': ['zero', 'zéro'],\n",
    "    'ouest': ['l''ouest'],\n",
    "    'est': ['l''est'],\n",
    "    '1': ['un'],\n",
    "}\n",
    "\n",
    "tokens_map = {word: token for token, words in tokens.items() for word in words}\n",
    "\n",
    "temperatures = {\n",
    "    'default': [],\n",
    "    'nord': [],\n",
    "    'sud': [],\n",
    "    'est': [],\n",
    "    'ouest': [],\n",
    "}"
   ]
  },
  {
   "cell_type": "markdown",
   "metadata": {},
   "source": [
    "We previously transformed the pdf files into text files in order to do the text processing. Now we extract the temperatures for each file of each year between 2002 and now, using our algorithm described in milestone2.md. "
   ]
  },
  {
   "cell_type": "code",
   "execution_count": 204,
   "metadata": {},
   "outputs": [
    {
     "name": "stdout",
     "output_type": "stream",
     "text": [
      "Total number of report without situation paragraph: 54/3544\n"
     ]
    }
   ],
   "source": [
    "no_situation_paragraph = 0 \n",
    "total_files = 0\n",
    "\n",
    "for year in range(2002,2018):\n",
    "    path = \"../data/slf/{}/nb/fr/{}\".format(str(year), 'txt' if year < 2013 else 'txt_extracted')\n",
    "    \n",
    "    for filename in glob.glob(os.path.join(path, '*.txt')):\n",
    "        file_date = dateutil.parser.parse(filename[27:35] if year < 2013 else filename[37:45])\n",
    "        total_files += 1\n",
    "\n",
    "        with open(filename, 'rb') as file:\n",
    "            content = file.read().decode(\"utf-8\", \"ignore\")\n",
    "            content = replace_words(content, tokens_map)\n",
    "            \n",
    "            # select paragraph in which temperatures are present\n",
    "            paragraph = get_paragraph(content,year)            \n",
    "            \n",
    "            if not paragraph:\n",
    "                no_situation_paragraph += 1\n",
    "                \n",
    "            else:\n",
    "                paragraph = paragraph.replace(\"\\n\", \" \")\n",
    "                ts = extract_temperatures(paragraph)\n",
    "                for direction, t in ts.items():\n",
    "                    temperatures[direction].append((file_date, t))\n",
    "\n",
    "print('Total number of report without situation paragraph: {}/{}'.format(no_situation_paragraph, total_files))"
   ]
  },
  {
   "cell_type": "markdown",
   "metadata": {},
   "source": [
    "We organize our extracted data inside a dataframe for further analysis"
   ]
  },
  {
   "cell_type": "code",
   "execution_count": 205,
   "metadata": {
    "collapsed": true
   },
   "outputs": [],
   "source": [
    "records = [(date, region, t) for region, ts in temperatures.items() for date, t in ts]"
   ]
  },
  {
   "cell_type": "code",
   "execution_count": 206,
   "metadata": {},
   "outputs": [
    {
     "name": "stdout",
     "output_type": "stream",
     "text": [
      "We collected temperatures for 1523 dates\n"
     ]
    },
    {
     "data": {
      "text/html": [
       "<div>\n",
       "<style>\n",
       "    .dataframe thead tr:only-child th {\n",
       "        text-align: right;\n",
       "    }\n",
       "\n",
       "    .dataframe thead th {\n",
       "        text-align: left;\n",
       "    }\n",
       "\n",
       "    .dataframe tbody tr th {\n",
       "        vertical-align: top;\n",
       "    }\n",
       "</style>\n",
       "<table border=\"1\" class=\"dataframe\">\n",
       "  <thead>\n",
       "    <tr style=\"text-align: right;\">\n",
       "      <th></th>\n",
       "      <th></th>\n",
       "      <th>temperature</th>\n",
       "    </tr>\n",
       "    <tr>\n",
       "      <th>date</th>\n",
       "      <th>region</th>\n",
       "      <th></th>\n",
       "    </tr>\n",
       "  </thead>\n",
       "  <tbody>\n",
       "    <tr>\n",
       "      <th>2001-11-12</th>\n",
       "      <th>-</th>\n",
       "      <td>15</td>\n",
       "    </tr>\n",
       "    <tr>\n",
       "      <th>2001-11-25</th>\n",
       "      <th>-</th>\n",
       "      <td>8</td>\n",
       "    </tr>\n",
       "    <tr>\n",
       "      <th>2001-11-26</th>\n",
       "      <th>-</th>\n",
       "      <td>0</td>\n",
       "    </tr>\n",
       "    <tr>\n",
       "      <th>2001-11-29</th>\n",
       "      <th>-</th>\n",
       "      <td>-5</td>\n",
       "    </tr>\n",
       "    <tr>\n",
       "      <th>2001-12-05</th>\n",
       "      <th>-</th>\n",
       "      <td>0</td>\n",
       "    </tr>\n",
       "    <tr>\n",
       "      <th>2001-12-08</th>\n",
       "      <th>-</th>\n",
       "      <td>-2</td>\n",
       "    </tr>\n",
       "    <tr>\n",
       "      <th>2001-12-10</th>\n",
       "      <th>-</th>\n",
       "      <td>2</td>\n",
       "    </tr>\n",
       "    <tr>\n",
       "      <th>2001-12-11</th>\n",
       "      <th>-</th>\n",
       "      <td>-3</td>\n",
       "    </tr>\n",
       "    <tr>\n",
       "      <th>2001-12-12</th>\n",
       "      <th>-</th>\n",
       "      <td>-5</td>\n",
       "    </tr>\n",
       "    <tr>\n",
       "      <th>2001-12-13</th>\n",
       "      <th>-</th>\n",
       "      <td>-15</td>\n",
       "    </tr>\n",
       "    <tr>\n",
       "      <th>2001-12-14</th>\n",
       "      <th>-</th>\n",
       "      <td>-24</td>\n",
       "    </tr>\n",
       "    <tr>\n",
       "      <th>2001-12-15</th>\n",
       "      <th>-</th>\n",
       "      <td>4</td>\n",
       "    </tr>\n",
       "    <tr>\n",
       "      <th>2001-12-16</th>\n",
       "      <th>est</th>\n",
       "      <td>7</td>\n",
       "    </tr>\n",
       "    <tr>\n",
       "      <th>2001-12-17</th>\n",
       "      <th>-</th>\n",
       "      <td>5</td>\n",
       "    </tr>\n",
       "    <tr>\n",
       "      <th>2001-12-19</th>\n",
       "      <th>-</th>\n",
       "      <td>-3</td>\n",
       "    </tr>\n",
       "  </tbody>\n",
       "</table>\n",
       "</div>"
      ],
      "text/plain": [
       "                   temperature\n",
       "date       region             \n",
       "2001-11-12 -                15\n",
       "2001-11-25 -                 8\n",
       "2001-11-26 -                 0\n",
       "2001-11-29 -                -5\n",
       "2001-12-05 -                 0\n",
       "2001-12-08 -                -2\n",
       "2001-12-10 -                 2\n",
       "2001-12-11 -                -3\n",
       "2001-12-12 -                -5\n",
       "2001-12-13 -               -15\n",
       "2001-12-14 -               -24\n",
       "2001-12-15 -                 4\n",
       "2001-12-16 est               7\n",
       "2001-12-17 -                 5\n",
       "2001-12-19 -                -3"
      ]
     },
     "execution_count": 206,
     "metadata": {},
     "output_type": "execute_result"
    }
   ],
   "source": [
    "results = pd.DataFrame(records, columns=['date', 'region', 'temperature'])\n",
    "results.region = results.region.str.replace('default', '-')\n",
    "results = results.sort_values(by='date')\n",
    "print('We collected temperatures for %d dates' %len(results.date.unique()))\n",
    "results = results.set_index(['date', 'region'])\n",
    "results.head(15)"
   ]
  },
  {
   "cell_type": "markdown",
   "metadata": {},
   "source": [
    "We checked if our algorithm has worked by selecting a sampling of 20 dates."
   ]
  },
  {
   "cell_type": "markdown",
   "metadata": {},
   "source": [
    "## 2: Wind extraction:"
   ]
  },
  {
   "cell_type": "markdown",
   "metadata": {},
   "source": [
    "Now we will extract wind data from avalanche reports.\n",
    "There are no exact numbers like wind speed in the reports, but an evaluation of the strength of the wind is given.\n",
    "Thus, our output will be categorical: strong, moderate or weak.\n",
    "\n",
    "First some variables are initialized and some functions are defined."
   ]
  },
  {
   "cell_type": "code",
   "execution_count": 215,
   "metadata": {
    "collapsed": true
   },
   "outputs": [],
   "source": [
    "# regex pattern used to select the wind information \n",
    "wind_pattern = re.compile(r\"(fort |faible |modere )\", re.IGNORECASE)\n",
    "CONTEXT = 25\n",
    "main_directions = ['nord', 'sud', 'est', 'ouest']\n",
    "directions = main_directions + ['nord-est', 'nord-ouest', 'sud-est', 'sud-ouest']\n",
    "\n",
    "def extract_wind(paragraph):\n",
    "    \"\"\"Obtain the location for each temperature\n",
    "    returns a dict(region -> temperature)\n",
    "    \"\"\"\n",
    "    result = {}\n",
    "    \n",
    "    ts = []\n",
    "    for match in wind_pattern.finditer(paragraph):\n",
    "        value = match[0]\n",
    "        end = match.end()\n",
    "        ts.append((value, end))\n",
    "    \n",
    "    if len(ts) == 1:\n",
    "        result['default'] = ts[0][0]\n",
    "    elif len(ts) > 1:\n",
    "        for value, end in ts:\n",
    "            for direction in main_directions:\n",
    "                if direction in paragraph[end:end + CONTEXT]:\n",
    "                    result[direction] = value\n",
    "                    break\n",
    "    \n",
    "    return result\n",
    "\n",
    "tokens = {\n",
    "    'modere': ['modéré','modere','modérés','moderes'],\n",
    "    'fort': ['forts'],\n",
    "    'faible': ['faibles'],\n",
    "    'situation generale': ['situation générale', 'COUVERTURE NEIGEUSE'],\n",
    "    'Rtrospective mto':['Rétrospective mto', 'Retrospective meteo','Rtrospective mtorologique', 'Retrospective meteorologique'],\n",
    "    'Perspective mto':['Perspective meteo','Tendance','tendance'],\n",
    "    'ouest': ['l''ouest'],\n",
    "    'est': ['l''est'],\n",
    "}\n",
    "\n",
    "tokens_map = {word: token for token, words in tokens.items() for word in words}\n",
    "\n",
    "wind = {\n",
    "    'default': [],\n",
    "    'nord': [],\n",
    "    'sud': [],\n",
    "    'est': [],\n",
    "    'ouest': [],\n",
    "}"
   ]
  },
  {
   "cell_type": "markdown",
   "metadata": {},
   "source": [
    "Now for each file of each year between 2002 and now, we use our algorithm (as explained in milestone2.md) to extract wind information. "
   ]
  },
  {
   "cell_type": "code",
   "execution_count": 211,
   "metadata": {},
   "outputs": [
    {
     "data": {
      "text/plain": [
       "'../data/slf/2013/nb/fr/txt\\\\20121008_nb_fr_bw.txt'"
      ]
     },
     "execution_count": 211,
     "metadata": {},
     "output_type": "execute_result"
    }
   ],
   "source": [
    "filename"
   ]
  },
  {
   "cell_type": "code",
   "execution_count": 216,
   "metadata": {},
   "outputs": [
    {
     "name": "stdout",
     "output_type": "stream",
     "text": [
      "Total number of report without situation paragraph: 55/2063\n"
     ]
    }
   ],
   "source": [
    "no_situation_paragraph = 0\n",
    "total_files = 0\n",
    "\n",
    "for year in range(2002,2018):\n",
    "    path = \"../data/slf/{}/nb/fr/txt\".format(str(year), 'txt' if year < 2014 else 'txt_extracted')\n",
    "    \n",
    "    for filename in glob.glob(os.path.join(path, '*.txt')):\n",
    "        file_date = dateutil.parser.parse((filename[27:35] if year < 2014 else filename[37:45]))\n",
    "        total_files += 1\n",
    "\n",
    "        with open(filename, 'rb') as file:\n",
    "            content = file.read().decode(\"utf-8\", \"ignore\")\n",
    "            content = replace_words(content, tokens_map)\n",
    "            \n",
    "            # select paragraph in which temperatures are present\n",
    "            paragraph = get_paragraph(content,year)  \n",
    "            \n",
    "            if not paragraph:\n",
    "                no_situation_paragraph += 1\n",
    "            \n",
    "            else:\n",
    "                paragraph = paragraph.replace(\"\\n\", \" \")\n",
    "                ts = extract_wind(paragraph)\n",
    "                for direction, t in ts.items():\n",
    "                    wind[direction].append((file_date, t))\n",
    "\n",
    "print('Total number of report without situation paragraph: {}/{}'.format(no_situation_paragraph, total_files))"
   ]
  },
  {
   "cell_type": "markdown",
   "metadata": {},
   "source": [
    "We define the dataframe in which wind and corresponding dates are inserted."
   ]
  },
  {
   "cell_type": "code",
   "execution_count": 217,
   "metadata": {
    "collapsed": true
   },
   "outputs": [],
   "source": [
    "records = [(date, region, t) for region, ts in wind.items() for date, t in ts]"
   ]
  },
  {
   "cell_type": "code",
   "execution_count": 218,
   "metadata": {},
   "outputs": [
    {
     "name": "stdout",
     "output_type": "stream",
     "text": [
      "We collected wind data for 1479 dates\n"
     ]
    },
    {
     "data": {
      "text/html": [
       "<div>\n",
       "<style>\n",
       "    .dataframe thead tr:only-child th {\n",
       "        text-align: right;\n",
       "    }\n",
       "\n",
       "    .dataframe thead th {\n",
       "        text-align: left;\n",
       "    }\n",
       "\n",
       "    .dataframe tbody tr th {\n",
       "        vertical-align: top;\n",
       "    }\n",
       "</style>\n",
       "<table border=\"1\" class=\"dataframe\">\n",
       "  <thead>\n",
       "    <tr style=\"text-align: right;\">\n",
       "      <th></th>\n",
       "      <th></th>\n",
       "      <th>wind</th>\n",
       "    </tr>\n",
       "    <tr>\n",
       "      <th>date</th>\n",
       "      <th>region</th>\n",
       "      <th></th>\n",
       "    </tr>\n",
       "  </thead>\n",
       "  <tbody>\n",
       "    <tr>\n",
       "      <th rowspan=\"2\" valign=\"top\">2001-11-12</th>\n",
       "      <th>sud</th>\n",
       "      <td>modere</td>\n",
       "    </tr>\n",
       "    <tr>\n",
       "      <th>nord</th>\n",
       "      <td>modere</td>\n",
       "    </tr>\n",
       "    <tr>\n",
       "      <th>2001-11-23</th>\n",
       "      <th>-</th>\n",
       "      <td>faible</td>\n",
       "    </tr>\n",
       "    <tr>\n",
       "      <th>2001-11-24</th>\n",
       "      <th>-</th>\n",
       "      <td>faible</td>\n",
       "    </tr>\n",
       "    <tr>\n",
       "      <th>2001-11-25</th>\n",
       "      <th>nord</th>\n",
       "      <td>modere</td>\n",
       "    </tr>\n",
       "    <tr>\n",
       "      <th>2001-12-01</th>\n",
       "      <th>nord</th>\n",
       "      <td>modere</td>\n",
       "    </tr>\n",
       "    <tr>\n",
       "      <th>2001-12-02</th>\n",
       "      <th>-</th>\n",
       "      <td>faible</td>\n",
       "    </tr>\n",
       "    <tr>\n",
       "      <th>2001-12-04</th>\n",
       "      <th>est</th>\n",
       "      <td>modere</td>\n",
       "    </tr>\n",
       "    <tr>\n",
       "      <th>2001-12-05</th>\n",
       "      <th>-</th>\n",
       "      <td>faible</td>\n",
       "    </tr>\n",
       "    <tr>\n",
       "      <th>2001-12-07</th>\n",
       "      <th>-</th>\n",
       "      <td>fort</td>\n",
       "    </tr>\n",
       "    <tr>\n",
       "      <th>2001-12-08</th>\n",
       "      <th>-</th>\n",
       "      <td>modere</td>\n",
       "    </tr>\n",
       "    <tr>\n",
       "      <th>2001-12-09</th>\n",
       "      <th>-</th>\n",
       "      <td>modere</td>\n",
       "    </tr>\n",
       "    <tr>\n",
       "      <th>2001-12-10</th>\n",
       "      <th>-</th>\n",
       "      <td>modere</td>\n",
       "    </tr>\n",
       "    <tr>\n",
       "      <th>2001-12-14</th>\n",
       "      <th>-</th>\n",
       "      <td>fort</td>\n",
       "    </tr>\n",
       "    <tr>\n",
       "      <th>2001-12-15</th>\n",
       "      <th>-</th>\n",
       "      <td>modere</td>\n",
       "    </tr>\n",
       "  </tbody>\n",
       "</table>\n",
       "</div>"
      ],
      "text/plain": [
       "                      wind\n",
       "date       region         \n",
       "2001-11-12 sud     modere \n",
       "           nord    modere \n",
       "2001-11-23 -       faible \n",
       "2001-11-24 -       faible \n",
       "2001-11-25 nord    modere \n",
       "2001-12-01 nord    modere \n",
       "2001-12-02 -       faible \n",
       "2001-12-04 est     modere \n",
       "2001-12-05 -       faible \n",
       "2001-12-07 -         fort \n",
       "2001-12-08 -       modere \n",
       "2001-12-09 -       modere \n",
       "2001-12-10 -       modere \n",
       "2001-12-14 -         fort \n",
       "2001-12-15 -       modere "
      ]
     },
     "execution_count": 218,
     "metadata": {},
     "output_type": "execute_result"
    }
   ],
   "source": [
    "results = pd.DataFrame(records, columns=['date', 'region', 'wind'])\n",
    "results.region = results.region.str.replace('default', '-')\n",
    "results = results.sort_values(by='date')\n",
    "print('We collected wind data for %d dates' %len(results.date.unique()))\n",
    "results = results.set_index(['date', 'region'])\n",
    "results.head(15)"
   ]
  },
  {
   "cell_type": "markdown",
   "metadata": {},
   "source": [
    "We checked if our algorithm has worked by selecting a sampling of 20 dates."
   ]
  }
 ],
 "metadata": {
  "kernelspec": {
   "display_name": "Python 3",
   "language": "python",
   "name": "python3"
  },
  "language_info": {
   "codemirror_mode": {
    "name": "ipython",
    "version": 3
   },
   "file_extension": ".py",
   "mimetype": "text/x-python",
   "name": "python",
   "nbconvert_exporter": "python",
   "pygments_lexer": "ipython3",
   "version": "3.6.2"
  }
 },
 "nbformat": 4,
 "nbformat_minor": 2
}
