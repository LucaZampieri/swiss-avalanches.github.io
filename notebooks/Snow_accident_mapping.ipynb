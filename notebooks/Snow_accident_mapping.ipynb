{
 "cells": [
  {
   "cell_type": "markdown",
   "metadata": {},
   "source": [
    "In this notebook we will go through each accident registered in our dataset and look at the snow informations retrieved from the maps dataset to relate both of them."
   ]
  },
  {
   "cell_type": "code",
   "execution_count": 1,
   "metadata": {
    "collapsed": true
   },
   "outputs": [],
   "source": [
    "import numpy as np\n",
    "import pandas as pd\n",
    "import folium\n",
    "import branca\n",
    "import json\n",
    "import seaborn as sns\n",
    "import matplotlib.pyplot as plt\n",
    "\n",
    "%matplotlib inline"
   ]
  },
  {
   "cell_type": "code",
   "execution_count": 8,
   "metadata": {},
   "outputs": [
    {
     "data": {
      "text/html": [
       "<div>\n",
       "<style>\n",
       "    .dataframe thead tr:only-child th {\n",
       "        text-align: right;\n",
       "    }\n",
       "\n",
       "    .dataframe thead th {\n",
       "        text-align: left;\n",
       "    }\n",
       "\n",
       "    .dataframe tbody tr th {\n",
       "        vertical-align: top;\n",
       "    }\n",
       "</style>\n",
       "<table border=\"1\" class=\"dataframe\">\n",
       "  <thead>\n",
       "    <tr style=\"text-align: right;\">\n",
       "      <th></th>\n",
       "      <th>Date</th>\n",
       "      <th>Canton</th>\n",
       "      <th>Starting zone</th>\n",
       "      <th>Elevation</th>\n",
       "      <th>Latitude</th>\n",
       "      <th>Longitude</th>\n",
       "    </tr>\n",
       "  </thead>\n",
       "  <tbody>\n",
       "    <tr>\n",
       "      <th>0</th>\n",
       "      <td>1997-10-26</td>\n",
       "      <td>BE</td>\n",
       "      <td>Kandersteg</td>\n",
       "      <td>3420</td>\n",
       "      <td>46.469813</td>\n",
       "      <td>7.728972</td>\n",
       "    </tr>\n",
       "    <tr>\n",
       "      <th>1</th>\n",
       "      <td>1997-12-19</td>\n",
       "      <td>GR</td>\n",
       "      <td>St. Moritz</td>\n",
       "      <td>2560</td>\n",
       "      <td>46.502976</td>\n",
       "      <td>9.772840</td>\n",
       "    </tr>\n",
       "    <tr>\n",
       "      <th>2</th>\n",
       "      <td>1997-12-21</td>\n",
       "      <td>UR</td>\n",
       "      <td>Andermatt</td>\n",
       "      <td>2940</td>\n",
       "      <td>46.602754</td>\n",
       "      <td>8.612660</td>\n",
       "    </tr>\n",
       "    <tr>\n",
       "      <th>3</th>\n",
       "      <td>1997-12-29</td>\n",
       "      <td>VS</td>\n",
       "      <td>Bagnes</td>\n",
       "      <td>2435</td>\n",
       "      <td>46.034050</td>\n",
       "      <td>7.199696</td>\n",
       "    </tr>\n",
       "    <tr>\n",
       "      <th>4</th>\n",
       "      <td>1998-01-04</td>\n",
       "      <td>UR</td>\n",
       "      <td>Andermatt</td>\n",
       "      <td>2400</td>\n",
       "      <td>46.617105</td>\n",
       "      <td>8.616889</td>\n",
       "    </tr>\n",
       "  </tbody>\n",
       "</table>\n",
       "</div>"
      ],
      "text/plain": [
       "        Date Canton Starting zone  Elevation   Latitude  Longitude\n",
       "0 1997-10-26     BE    Kandersteg       3420  46.469813   7.728972\n",
       "1 1997-12-19     GR    St. Moritz       2560  46.502976   9.772840\n",
       "2 1997-12-21     UR     Andermatt       2940  46.602754   8.612660\n",
       "3 1997-12-29     VS        Bagnes       2435  46.034050   7.199696\n",
       "4 1998-01-04     UR     Andermatt       2400  46.617105   8.616889"
      ]
     },
     "execution_count": 8,
     "metadata": {},
     "output_type": "execute_result"
    }
   ],
   "source": [
    "# Load avalanche accidents data\n",
    "df_accidents = pd.read_excel('../data/accidents/raw_accidents.xlsx')\n",
    "coordinates = pd.read_excel('../data/accidents/coordinates.xlsx')\n",
    "df_accidents = df_accidents.assign(Longitude = coordinates.Longitude, Latitude = coordinates.Latitude)\n",
    "df_accidents = df_accidents.drop(['Aspect', 'Activity', 'Danger level', 'caught', 'buried', 'killed'], axis=1)\n",
    "df_accidents.head()"
   ]
  },
  {
   "cell_type": "markdown",
   "metadata": {},
   "source": [
    "Our main interest here are the places and dates."
   ]
  },
  {
   "cell_type": "code",
   "execution_count": null,
   "metadata": {
    "collapsed": true
   },
   "outputs": [],
   "source": []
  }
 ],
 "metadata": {
  "kernelspec": {
   "display_name": "Python 3",
   "language": "python",
   "name": "python3"
  },
  "language_info": {
   "codemirror_mode": {
    "name": "ipython",
    "version": 3
   },
   "file_extension": ".py",
   "mimetype": "text/x-python",
   "name": "python",
   "nbconvert_exporter": "python",
   "pygments_lexer": "ipython3",
   "version": "3.6.1"
  }
 },
 "nbformat": 4,
 "nbformat_minor": 2
}
