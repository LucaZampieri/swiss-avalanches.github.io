{
 "cells": [
  {
   "cell_type": "markdown",
   "metadata": {},
   "source": [
    "# TODO: \n",
    "   - rechercher le significations des extensions pour avoir quelque chose de plus explicite \n",
    "       - hn1: neige fraiche 1 jour\n",
    "       - hn3: neige fraiche 3 jours\n",
    "       - hsr2000: hauteur de neige a 2000m\n",
    "       - hrs2500: hauteur de neige a 2500m\n",
    "       - hsrel: enneigement compare a la moyenne pluriannuelle\n",
    "       - hstop: hauteur de neige\n",
    "   - modifider dates dataframe pour martch avec les json \n",
    "   - function is in to check wether point belongs to selected polygon\n",
    "   - iterate over polygons of a map to assign values to each accident\n",
    "    "
   ]
  },
  {
   "cell_type": "markdown",
   "metadata": {},
   "source": [
    "In this notebook we will go through each accident registered in our dataset and look at the snow informations retrieved from the maps dataset to relate both of them."
   ]
  },
  {
   "cell_type": "code",
   "execution_count": 1,
   "metadata": {
    "collapsed": true
   },
   "outputs": [],
   "source": [
    "import numpy as np\n",
    "import pandas as pd\n",
    "import folium\n",
    "import branca\n",
    "import json\n",
    "import seaborn as sns\n",
    "import matplotlib.pyplot as plt\n",
    "import os\n",
    "\n",
    "%matplotlib inline"
   ]
  },
  {
   "cell_type": "code",
   "execution_count": 2,
   "metadata": {
    "collapsed": true
   },
   "outputs": [],
   "source": [
    "# Load avalanche accidents data\n",
    "df_accidents = pd.read_csv('../data/accidents/raw_accidents.csv')\n",
    "coordinates = pd.read_csv('../data/accidents/coordinates.csv')"
   ]
  },
  {
   "cell_type": "code",
   "execution_count": 3,
   "metadata": {},
   "outputs": [
    {
     "data": {
      "text/html": [
       "<div>\n",
       "<style>\n",
       "    .dataframe thead tr:only-child th {\n",
       "        text-align: right;\n",
       "    }\n",
       "\n",
       "    .dataframe thead th {\n",
       "        text-align: left;\n",
       "    }\n",
       "\n",
       "    .dataframe tbody tr th {\n",
       "        vertical-align: top;\n",
       "    }\n",
       "</style>\n",
       "<table border=\"1\" class=\"dataframe\">\n",
       "  <thead>\n",
       "    <tr style=\"text-align: right;\">\n",
       "      <th></th>\n",
       "      <th>Date</th>\n",
       "      <th>Canton</th>\n",
       "      <th>Starting zone</th>\n",
       "      <th>Elevation</th>\n",
       "      <th>Latitude</th>\n",
       "      <th>Longitude</th>\n",
       "    </tr>\n",
       "  </thead>\n",
       "  <tbody>\n",
       "    <tr>\n",
       "      <th>0</th>\n",
       "      <td>26.10.97</td>\n",
       "      <td>BE</td>\n",
       "      <td>Kandersteg</td>\n",
       "      <td>3420</td>\n",
       "      <td>46.469813</td>\n",
       "      <td>7.728972</td>\n",
       "    </tr>\n",
       "    <tr>\n",
       "      <th>1</th>\n",
       "      <td>19.12.97</td>\n",
       "      <td>GR</td>\n",
       "      <td>St. Moritz</td>\n",
       "      <td>2560</td>\n",
       "      <td>46.502976</td>\n",
       "      <td>9.772840</td>\n",
       "    </tr>\n",
       "    <tr>\n",
       "      <th>2</th>\n",
       "      <td>21.12.97</td>\n",
       "      <td>UR</td>\n",
       "      <td>Andermatt</td>\n",
       "      <td>2940</td>\n",
       "      <td>46.602754</td>\n",
       "      <td>8.612660</td>\n",
       "    </tr>\n",
       "    <tr>\n",
       "      <th>3</th>\n",
       "      <td>29.12.97</td>\n",
       "      <td>VS</td>\n",
       "      <td>Bagnes</td>\n",
       "      <td>2435</td>\n",
       "      <td>46.034050</td>\n",
       "      <td>7.199696</td>\n",
       "    </tr>\n",
       "    <tr>\n",
       "      <th>4</th>\n",
       "      <td>04.01.98</td>\n",
       "      <td>UR</td>\n",
       "      <td>Andermatt</td>\n",
       "      <td>2400</td>\n",
       "      <td>46.617105</td>\n",
       "      <td>8.616889</td>\n",
       "    </tr>\n",
       "  </tbody>\n",
       "</table>\n",
       "</div>"
      ],
      "text/plain": [
       "       Date Canton Starting zone  Elevation   Latitude  Longitude\n",
       "0  26.10.97     BE    Kandersteg       3420  46.469813   7.728972\n",
       "1  19.12.97     GR    St. Moritz       2560  46.502976   9.772840\n",
       "2  21.12.97     UR     Andermatt       2940  46.602754   8.612660\n",
       "3  29.12.97     VS        Bagnes       2435  46.034050   7.199696\n",
       "4  04.01.98     UR     Andermatt       2400  46.617105   8.616889"
      ]
     },
     "execution_count": 3,
     "metadata": {},
     "output_type": "execute_result"
    }
   ],
   "source": [
    "df_accidents = df_accidents.assign(Longitude = coordinates.Longitude, Latitude = coordinates.Latitude)\n",
    "df_accidents = df_accidents.drop(['Aspect', 'Activity', 'Danger level', 'caught', 'buried', 'killed'], axis=1)\n",
    "#df_accidents['Date'] = pd.to_datetime(df_accidents['Date'])\n",
    "df_accidents.head()"
   ]
  },
  {
   "cell_type": "markdown",
   "metadata": {},
   "source": [
    "Our main interest here are the places and dates."
   ]
  },
  {
   "cell_type": "code",
   "execution_count": 4,
   "metadata": {},
   "outputs": [
    {
     "data": {
      "text/html": [
       "<div>\n",
       "<style>\n",
       "    .dataframe thead tr:only-child th {\n",
       "        text-align: right;\n",
       "    }\n",
       "\n",
       "    .dataframe thead th {\n",
       "        text-align: left;\n",
       "    }\n",
       "\n",
       "    .dataframe tbody tr th {\n",
       "        vertical-align: top;\n",
       "    }\n",
       "</style>\n",
       "<table border=\"1\" class=\"dataframe\">\n",
       "  <thead>\n",
       "    <tr style=\"text-align: right;\">\n",
       "      <th></th>\n",
       "      <th>Date</th>\n",
       "      <th>Canton</th>\n",
       "      <th>Starting zone</th>\n",
       "      <th>Elevation</th>\n",
       "      <th>Latitude</th>\n",
       "      <th>Longitude</th>\n",
       "    </tr>\n",
       "  </thead>\n",
       "  <tbody>\n",
       "    <tr>\n",
       "      <th>0</th>\n",
       "      <td>1997-10-26</td>\n",
       "      <td>BE</td>\n",
       "      <td>Kandersteg</td>\n",
       "      <td>3420</td>\n",
       "      <td>46.469813</td>\n",
       "      <td>7.728972</td>\n",
       "    </tr>\n",
       "    <tr>\n",
       "      <th>1</th>\n",
       "      <td>1997-12-19</td>\n",
       "      <td>GR</td>\n",
       "      <td>St. Moritz</td>\n",
       "      <td>2560</td>\n",
       "      <td>46.502976</td>\n",
       "      <td>9.772840</td>\n",
       "    </tr>\n",
       "    <tr>\n",
       "      <th>2</th>\n",
       "      <td>1997-12-21</td>\n",
       "      <td>UR</td>\n",
       "      <td>Andermatt</td>\n",
       "      <td>2940</td>\n",
       "      <td>46.602754</td>\n",
       "      <td>8.612660</td>\n",
       "    </tr>\n",
       "    <tr>\n",
       "      <th>3</th>\n",
       "      <td>1997-12-29</td>\n",
       "      <td>VS</td>\n",
       "      <td>Bagnes</td>\n",
       "      <td>2435</td>\n",
       "      <td>46.034050</td>\n",
       "      <td>7.199696</td>\n",
       "    </tr>\n",
       "    <tr>\n",
       "      <th>4</th>\n",
       "      <td>1998-04-01</td>\n",
       "      <td>UR</td>\n",
       "      <td>Andermatt</td>\n",
       "      <td>2400</td>\n",
       "      <td>46.617105</td>\n",
       "      <td>8.616889</td>\n",
       "    </tr>\n",
       "  </tbody>\n",
       "</table>\n",
       "</div>"
      ],
      "text/plain": [
       "        Date Canton Starting zone  Elevation   Latitude  Longitude\n",
       "0 1997-10-26     BE    Kandersteg       3420  46.469813   7.728972\n",
       "1 1997-12-19     GR    St. Moritz       2560  46.502976   9.772840\n",
       "2 1997-12-21     UR     Andermatt       2940  46.602754   8.612660\n",
       "3 1997-12-29     VS        Bagnes       2435  46.034050   7.199696\n",
       "4 1998-04-01     UR     Andermatt       2400  46.617105   8.616889"
      ]
     },
     "execution_count": 4,
     "metadata": {},
     "output_type": "execute_result"
    }
   ],
   "source": [
    "df_accidents['Date'] = pd.to_datetime(df_accidents['Date'])\n",
    "#changer datetime pour obtenir dd.mm.aaaa\n",
    "df_accidents.head()"
   ]
  },
  {
   "cell_type": "markdown",
   "metadata": {
    "collapsed": true
   },
   "source": [
    "To each accident we will track the relevent snow information, i.e., from the map dataset we will retrieve the snow level at the location of the accident for the 10 preceding days and the following 3 days."
   ]
  },
  {
   "cell_type": "code",
   "execution_count": 5,
   "metadata": {
    "collapsed": true
   },
   "outputs": [],
   "source": [
    "# admettons que cette ligne fonctionne et qu'il s'agisse d'un array avec tous les noms des json \n",
    "json_path = '../data/json-maps'\n",
    "json_file_names = os.listdir(json_path)\n",
    "\n",
    "extensions = ['hn1', 'hn3', 'hsr2000', 'hsr2500', 'hsrel', 'hstop']\n",
    "\n",
    "json_hn1, json_hn3, json_hsr2000, json_hsr2500, json_hsrel, json_hstop = [], [], [], [], [], []\n",
    "json_files = [json_hn1, json_hn3, json_hsr2000, json_hsr2500, json_hsrel, json_hstop]\n",
    "\n",
    "for json_ in json_file_names:\n",
    "    for i, ext in enumerate(extensions):\n",
    "        if ext in json_:\n",
    "            json_files[i].append(json.loads(open(os.path.join(json_path, json_)).read()))\n"
   ]
  },
  {
   "cell_type": "code",
   "execution_count": 6,
   "metadata": {
    "collapsed": true
   },
   "outputs": [],
   "source": [
    "df_accidents = pd.concat([df_accidents, pd.DataFrame(columns=extensions)])"
   ]
  },
  {
   "cell_type": "code",
   "execution_count": 64,
   "metadata": {},
   "outputs": [],
   "source": [
    "def surround_days(df, json_snow):\n",
    "    h = np.empty_like(len(df['Date']), dtype=None)\n",
    "    for i, dat in enumerate(df_accidents['Date']):\n",
    "        for j, json_ in enumerate(json_snow):\n",
    "            d = str(dat.day) + \".\" + str(dat.month) + \".\" + str(dat.year)\n",
    "            if(d == json_.get(\"date\")):\n",
    "                h[i].append(json_snow[j])\n",
    "    return h\n",
    "                \n",
    "hn1 = surround_days(df_accidents, json_hn1)\n",
    "hn3 = surround_days(df_accidents, json_hn3)\n",
    "hsr2000 = surround_days(df_accidents, json_hsr2000)\n",
    "hsr2500 = surround_days(df_accidents, json_hsr2500)\n",
    "hsrel = surround_days(df_accidents, json_hsrel)\n",
    "hstop = surround_days(df_accidents, json_hstop)"
   ]
  },
  {
   "cell_type": "code",
   "execution_count": 65,
   "metadata": {},
   "outputs": [
    {
     "ename": "TypeError",
     "evalue": "len() of unsized object",
     "output_type": "error",
     "traceback": [
      "\u001b[0;31m---------------------------------------------------------------------------\u001b[0m",
      "\u001b[0;31mTypeError\u001b[0m                                 Traceback (most recent call last)",
      "\u001b[0;32m<ipython-input-65-1da73bc160c2>\u001b[0m in \u001b[0;36m<module>\u001b[0;34m()\u001b[0m\n\u001b[0;32m----> 1\u001b[0;31m \u001b[0mlen\u001b[0m\u001b[0;34m(\u001b[0m\u001b[0mhn1\u001b[0m\u001b[0;34m)\u001b[0m\u001b[0;34m\u001b[0m\u001b[0m\n\u001b[0m",
      "\u001b[0;31mTypeError\u001b[0m: len() of unsized object"
     ]
    }
   ],
   "source": [
    "len(hn1)"
   ]
  },
  {
   "cell_type": "code",
   "execution_count": null,
   "metadata": {},
   "outputs": [],
   "source": [
    "#apply is_in to each element and iterate over all polygons \n",
    "df_accidents.loc[:, 'hn1'] = hn1\n",
    "df_accidents.loc[:, 'hn3'] = hn3\n",
    "df_accidents.loc[:, 'hsr2000'] = hsr2000\n",
    "df_accidents.loc[:, 'hsr2500'] = hsr2500\n",
    "df_accidents.loc[:, 'hsrel'] = hsrel\n",
    "df_accidents.loc[:, 'hstop'] = hstop"
   ]
  },
  {
   "cell_type": "code",
   "execution_count": null,
   "metadata": {},
   "outputs": [],
   "source": [
    "df_accidents.tail(50)"
   ]
  },
  {
   "cell_type": "code",
   "execution_count": null,
   "metadata": {
    "collapsed": true
   },
   "outputs": [],
   "source": [
    "for i, values in df_accidents.iterrows():\n",
    "    \n",
    "    information = [\n",
    "        (\"Date\", values[\"Date\"].strftime(\"%d.%m.%Y\")),\n",
    "        (\"Starting zone\", values[\"Starting zone\"]),\n",
    "        (\"Elevation\", values[\"Elevation\"]),\n",
    "        (\"Snow hn1\", values['hn1']),\n",
    "        (\"Snow hn3\", values['hn3']),\n",
    "        (\"Snow hsr2000\", values['hsr2000']),\n",
    "        (\"Snow hsr2500\", values['hsr2500']),\n",
    "        (\"Snow hsrel\", values['hsrel']),\n",
    "        (\"Snow hstop\", values['hstop']),\n",
    "    ]"
   ]
  },
  {
   "cell_type": "code",
   "execution_count": null,
   "metadata": {
    "collapsed": true
   },
   "outputs": [],
   "source": []
  },
  {
   "cell_type": "code",
   "execution_count": null,
   "metadata": {
    "collapsed": true
   },
   "outputs": [],
   "source": []
  }
 ],
 "metadata": {
  "kernelspec": {
   "display_name": "Python 3",
   "language": "python",
   "name": "python3"
  },
  "language_info": {
   "codemirror_mode": {
    "name": "ipython",
    "version": 3
   },
   "file_extension": ".py",
   "mimetype": "text/x-python",
   "name": "python",
   "nbconvert_exporter": "python",
   "pygments_lexer": "ipython3",
   "version": "3.6.1"
  }
 },
 "nbformat": 4,
 "nbformat_minor": 2
}
