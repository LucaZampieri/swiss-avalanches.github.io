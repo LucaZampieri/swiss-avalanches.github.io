{
 "cells": [
  {
   "cell_type": "markdown",
   "metadata": {},
   "source": [
    "## Correlation analysis:"
   ]
  },
  {
   "cell_type": "code",
   "execution_count": 144,
   "metadata": {
    "collapsed": true
   },
   "outputs": [],
   "source": [
    "import pandas as pd\n",
    "import numpy as np\n",
    "import seaborn as sns\n",
    "import matplotlib.pyplot as plt\n",
    "%matplotlib inline\n",
    "import warnings\n",
    "warnings.filterwarnings('ignore')\n",
    "import plotly.plotly as py\n",
    "from plotly.graph_objs import *"
   ]
  },
  {
   "cell_type": "markdown",
   "metadata": {},
   "source": [
    "##### Data loading:\n",
    "We load accidents, temperature and wind datasets"
   ]
  },
  {
   "cell_type": "code",
   "execution_count": 145,
   "metadata": {
    "collapsed": true
   },
   "outputs": [],
   "source": [
    "df_accidents = pd.read_excel('../data/accidents/df_accidents.xlsx')\n",
    "df_tmp = pd.read_excel('../data/df_tmp.xlsx')\n",
    "df_wind = pd.read_excel('../data/df_wind.xlsx')"
   ]
  },
  {
   "cell_type": "markdown",
   "metadata": {},
   "source": [
    "##### Data cleaning:\n",
    "- some dates were replaced by NaT => retrieve dates for every sample\n",
    "- drop duplicates when two avalanche reports were written the same day: we decided to keep only the first one"
   ]
  },
  {
   "cell_type": "code",
   "execution_count": 146,
   "metadata": {
    "collapsed": true,
    "scrolled": true
   },
   "outputs": [],
   "source": [
    "# remove NaT and replace with the right date\n",
    "for i in range(0,7):\n",
    "    index_NaT = df_tmp[df_tmp['date'].isnull()].index.values\n",
    "    df_tmp.loc[index_NaT,'date'] = df_tmp.loc[index_NaT-1,'date'].values\n",
    "    \n",
    "df_tmp = df_tmp.drop_duplicates(subset=['date','region'], keep='first')#.set_index(['date','region'])\n",
    "\n",
    "# remove NaT and replace with the right date\n",
    "for i in range(0,5):\n",
    "    index_NaT = df_wind[df_wind['date'].isnull()].index.values\n",
    "    df_wind.loc[index_NaT,'date'] = df_wind.loc[index_NaT-1,'date'].values\n",
    "\n",
    "df_wind = df_wind.drop_duplicates(subset=['date','region'], keep='first')#.set_index(['date','region'])\n",
    "\n",
    "# select only accidents from 2002 until now\n",
    "df_accidents = df_accidents[df_accidents.Date.apply(lambda d: d.year>2001)]"
   ]
  },
  {
   "cell_type": "markdown",
   "metadata": {
    "collapsed": true
   },
   "source": [
    "### Temperature and wind processing:\n",
    "\n",
    "#### 1: Associate each accident with a location"
   ]
  },
  {
   "cell_type": "code",
   "execution_count": 147,
   "metadata": {},
   "outputs": [],
   "source": [
    "loc = []\n",
    "for ind,row in df_accidents.iterrows():\n",
    "    if row.Longitude >8.8:\n",
    "        loc.append('est')\n",
    "    elif row.Longitude < 7.4:\n",
    "        loc.append('ouest')\n",
    "    elif row.Latitude > 46.8662:\n",
    "        loc.append('nord')\n",
    "    else:\n",
    "        loc.append('sud')\n",
    "\n",
    "df_accidents['region'] = loc    "
   ]
  },
  {
   "cell_type": "markdown",
   "metadata": {},
   "source": [
    "#### 2: Associate each temperature with avalanche accidents data"
   ]
  },
  {
   "cell_type": "code",
   "execution_count": 148,
   "metadata": {
    "scrolled": true
   },
   "outputs": [
    {
     "data": {
      "text/html": [
       "<div>\n",
       "<style>\n",
       "    .dataframe thead tr:only-child th {\n",
       "        text-align: right;\n",
       "    }\n",
       "\n",
       "    .dataframe thead th {\n",
       "        text-align: left;\n",
       "    }\n",
       "\n",
       "    .dataframe tbody tr th {\n",
       "        vertical-align: top;\n",
       "    }\n",
       "</style>\n",
       "<table border=\"1\" class=\"dataframe\">\n",
       "  <thead>\n",
       "    <tr style=\"text-align: right;\">\n",
       "      <th></th>\n",
       "      <th>date</th>\n",
       "      <th>Canton</th>\n",
       "      <th>Starting zone</th>\n",
       "      <th>Elevation</th>\n",
       "      <th>Aspect</th>\n",
       "      <th>Activity</th>\n",
       "      <th>Danger level</th>\n",
       "      <th>caught</th>\n",
       "      <th>buried</th>\n",
       "      <th>killed</th>\n",
       "      <th>Latitude</th>\n",
       "      <th>Longitude</th>\n",
       "      <th>region</th>\n",
       "      <th>temperature</th>\n",
       "    </tr>\n",
       "  </thead>\n",
       "  <tbody>\n",
       "    <tr>\n",
       "      <th>270</th>\n",
       "      <td>2017-02-04</td>\n",
       "      <td>VS</td>\n",
       "      <td>Binn</td>\n",
       "      <td>2300</td>\n",
       "      <td>S</td>\n",
       "      <td>Backcountry touring</td>\n",
       "      <td>3.0</td>\n",
       "      <td>3</td>\n",
       "      <td>1.0</td>\n",
       "      <td>1</td>\n",
       "      <td>46.342085</td>\n",
       "      <td>8.207786</td>\n",
       "      <td>sud</td>\n",
       "      <td>-2.800</td>\n",
       "    </tr>\n",
       "    <tr>\n",
       "      <th>271</th>\n",
       "      <td>2017-02-05</td>\n",
       "      <td>VS</td>\n",
       "      <td>Ried-Brig</td>\n",
       "      <td>2205</td>\n",
       "      <td>NNE</td>\n",
       "      <td>Backcountry touring</td>\n",
       "      <td>3.0</td>\n",
       "      <td>1</td>\n",
       "      <td>NaN</td>\n",
       "      <td>1</td>\n",
       "      <td>46.283985</td>\n",
       "      <td>8.066959</td>\n",
       "      <td>sud</td>\n",
       "      <td>-5.230</td>\n",
       "    </tr>\n",
       "    <tr>\n",
       "      <th>272</th>\n",
       "      <td>2017-02-22</td>\n",
       "      <td>VS</td>\n",
       "      <td>Leukerbad</td>\n",
       "      <td>3590</td>\n",
       "      <td>S</td>\n",
       "      <td>Backcountry touring</td>\n",
       "      <td>2.0</td>\n",
       "      <td>1</td>\n",
       "      <td>1.0</td>\n",
       "      <td>1</td>\n",
       "      <td>46.423847</td>\n",
       "      <td>7.690221</td>\n",
       "      <td>sud</td>\n",
       "      <td>-7.540</td>\n",
       "    </tr>\n",
       "    <tr>\n",
       "      <th>273</th>\n",
       "      <td>2017-03-02</td>\n",
       "      <td>GR</td>\n",
       "      <td>Obersaxen Mundaun</td>\n",
       "      <td>2273</td>\n",
       "      <td>N</td>\n",
       "      <td>Off-piste skiing</td>\n",
       "      <td>3.0</td>\n",
       "      <td>2</td>\n",
       "      <td>1.0</td>\n",
       "      <td>1</td>\n",
       "      <td>46.708793</td>\n",
       "      <td>9.103164</td>\n",
       "      <td>est</td>\n",
       "      <td>-3.638</td>\n",
       "    </tr>\n",
       "    <tr>\n",
       "      <th>274</th>\n",
       "      <td>2017-09-21</td>\n",
       "      <td>BE</td>\n",
       "      <td>Grindelwald</td>\n",
       "      <td>3390</td>\n",
       "      <td>E</td>\n",
       "      <td>Backcountry touring</td>\n",
       "      <td>NaN</td>\n",
       "      <td>2</td>\n",
       "      <td>NaN</td>\n",
       "      <td>1</td>\n",
       "      <td>46.571666</td>\n",
       "      <td>8.008533</td>\n",
       "      <td>sud</td>\n",
       "      <td>NaN</td>\n",
       "    </tr>\n",
       "  </tbody>\n",
       "</table>\n",
       "</div>"
      ],
      "text/plain": [
       "          date Canton      Starting zone  Elevation Aspect  \\\n",
       "270 2017-02-04     VS               Binn       2300      S   \n",
       "271 2017-02-05     VS          Ried-Brig       2205    NNE   \n",
       "272 2017-02-22     VS          Leukerbad       3590      S   \n",
       "273 2017-03-02     GR  Obersaxen Mundaun       2273      N   \n",
       "274 2017-09-21     BE        Grindelwald       3390      E   \n",
       "\n",
       "                Activity  Danger level  caught  buried  killed   Latitude  \\\n",
       "270  Backcountry touring           3.0       3     1.0       1  46.342085   \n",
       "271  Backcountry touring           3.0       1     NaN       1  46.283985   \n",
       "272  Backcountry touring           2.0       1     1.0       1  46.423847   \n",
       "273     Off-piste skiing           3.0       2     1.0       1  46.708793   \n",
       "274  Backcountry touring           NaN       2     NaN       1  46.571666   \n",
       "\n",
       "     Longitude region  temperature  \n",
       "270   8.207786    sud       -2.800  \n",
       "271   8.066959    sud       -5.230  \n",
       "272   7.690221    sud       -7.540  \n",
       "273   9.103164    est       -3.638  \n",
       "274   8.008533    sud          NaN  "
      ]
     },
     "execution_count": 148,
     "metadata": {},
     "output_type": "execute_result"
    }
   ],
   "source": [
    "# obtain accidents dates\n",
    "#accident_dates = df_accidents.Date.tolist()\n",
    "\n",
    "# keep temperature dates corresponding to accidents dates\n",
    "temp_dates = df_tmp[df_tmp['date'].apply(lambda x: x in accident_dates)][['date','temperature']]\n",
    "temp_dates = temp_dates.drop_duplicates(subset=['date'], keep='first')\n",
    "df_accidents = df_accidents.rename(columns = {'Date':'date'})\n",
    "df_accidents = pd.merge(df_accidents,temp_dates,how = 'outer', on = 'date')\n",
    "\n",
    "mean_temp_gradient = 0.6\n",
    "df_accidents.temperature = df_accidents.temperature + ((2000 - df_accidents.Elevation) / 100)*mean_temp_gradient\n",
    "df_accidents.tail()"
   ]
  },
  {
   "cell_type": "code",
   "execution_count": 149,
   "metadata": {},
   "outputs": [
    {
     "name": "stdout",
     "output_type": "stream",
     "text": [
      "Approximately 81 percent of avalanche accidents are associated with their temperature\n"
     ]
    }
   ],
   "source": [
    "coverage = (len(df_accidents[~np.isnan(df_accidents['temperature'])])/len(df_accidents))*100\n",
    "print('Approximately %d percent of avalanche accidents are associated with their temperature' %coverage)"
   ]
  },
  {
   "cell_type": "markdown",
   "metadata": {},
   "source": [
    "#### 3: Associate wind information with avalanche accidents data"
   ]
  },
  {
   "cell_type": "code",
   "execution_count": 150,
   "metadata": {},
   "outputs": [
    {
     "data": {
      "text/html": [
       "<div>\n",
       "<style>\n",
       "    .dataframe thead tr:only-child th {\n",
       "        text-align: right;\n",
       "    }\n",
       "\n",
       "    .dataframe thead th {\n",
       "        text-align: left;\n",
       "    }\n",
       "\n",
       "    .dataframe tbody tr th {\n",
       "        vertical-align: top;\n",
       "    }\n",
       "</style>\n",
       "<table border=\"1\" class=\"dataframe\">\n",
       "  <thead>\n",
       "    <tr style=\"text-align: right;\">\n",
       "      <th></th>\n",
       "      <th>date</th>\n",
       "      <th>Canton</th>\n",
       "      <th>Starting zone</th>\n",
       "      <th>Elevation</th>\n",
       "      <th>Aspect</th>\n",
       "      <th>Activity</th>\n",
       "      <th>Danger level</th>\n",
       "      <th>caught</th>\n",
       "      <th>buried</th>\n",
       "      <th>killed</th>\n",
       "      <th>Latitude</th>\n",
       "      <th>Longitude</th>\n",
       "      <th>region</th>\n",
       "      <th>temperature</th>\n",
       "      <th>wind</th>\n",
       "    </tr>\n",
       "  </thead>\n",
       "  <tbody>\n",
       "    <tr>\n",
       "      <th>270</th>\n",
       "      <td>2017-02-04</td>\n",
       "      <td>VS</td>\n",
       "      <td>Binn</td>\n",
       "      <td>2300</td>\n",
       "      <td>S</td>\n",
       "      <td>Backcountry touring</td>\n",
       "      <td>3.0</td>\n",
       "      <td>3</td>\n",
       "      <td>1.0</td>\n",
       "      <td>1</td>\n",
       "      <td>46.342085</td>\n",
       "      <td>8.207786</td>\n",
       "      <td>sud</td>\n",
       "      <td>-2.800</td>\n",
       "      <td>fort</td>\n",
       "    </tr>\n",
       "    <tr>\n",
       "      <th>271</th>\n",
       "      <td>2017-02-05</td>\n",
       "      <td>VS</td>\n",
       "      <td>Ried-Brig</td>\n",
       "      <td>2205</td>\n",
       "      <td>NNE</td>\n",
       "      <td>Backcountry touring</td>\n",
       "      <td>3.0</td>\n",
       "      <td>1</td>\n",
       "      <td>NaN</td>\n",
       "      <td>1</td>\n",
       "      <td>46.283985</td>\n",
       "      <td>8.066959</td>\n",
       "      <td>sud</td>\n",
       "      <td>-5.230</td>\n",
       "      <td>faible</td>\n",
       "    </tr>\n",
       "    <tr>\n",
       "      <th>272</th>\n",
       "      <td>2017-02-22</td>\n",
       "      <td>VS</td>\n",
       "      <td>Leukerbad</td>\n",
       "      <td>3590</td>\n",
       "      <td>S</td>\n",
       "      <td>Backcountry touring</td>\n",
       "      <td>2.0</td>\n",
       "      <td>1</td>\n",
       "      <td>1.0</td>\n",
       "      <td>1</td>\n",
       "      <td>46.423847</td>\n",
       "      <td>7.690221</td>\n",
       "      <td>sud</td>\n",
       "      <td>-7.540</td>\n",
       "      <td>fort</td>\n",
       "    </tr>\n",
       "    <tr>\n",
       "      <th>273</th>\n",
       "      <td>2017-03-02</td>\n",
       "      <td>GR</td>\n",
       "      <td>Obersaxen Mundaun</td>\n",
       "      <td>2273</td>\n",
       "      <td>N</td>\n",
       "      <td>Off-piste skiing</td>\n",
       "      <td>3.0</td>\n",
       "      <td>2</td>\n",
       "      <td>1.0</td>\n",
       "      <td>1</td>\n",
       "      <td>46.708793</td>\n",
       "      <td>9.103164</td>\n",
       "      <td>est</td>\n",
       "      <td>-3.638</td>\n",
       "      <td>faible</td>\n",
       "    </tr>\n",
       "    <tr>\n",
       "      <th>274</th>\n",
       "      <td>2017-09-21</td>\n",
       "      <td>BE</td>\n",
       "      <td>Grindelwald</td>\n",
       "      <td>3390</td>\n",
       "      <td>E</td>\n",
       "      <td>Backcountry touring</td>\n",
       "      <td>NaN</td>\n",
       "      <td>2</td>\n",
       "      <td>NaN</td>\n",
       "      <td>1</td>\n",
       "      <td>46.571666</td>\n",
       "      <td>8.008533</td>\n",
       "      <td>sud</td>\n",
       "      <td>NaN</td>\n",
       "      <td>NaN</td>\n",
       "    </tr>\n",
       "  </tbody>\n",
       "</table>\n",
       "</div>"
      ],
      "text/plain": [
       "          date Canton      Starting zone  Elevation Aspect  \\\n",
       "270 2017-02-04     VS               Binn       2300      S   \n",
       "271 2017-02-05     VS          Ried-Brig       2205    NNE   \n",
       "272 2017-02-22     VS          Leukerbad       3590      S   \n",
       "273 2017-03-02     GR  Obersaxen Mundaun       2273      N   \n",
       "274 2017-09-21     BE        Grindelwald       3390      E   \n",
       "\n",
       "                Activity  Danger level  caught  buried  killed   Latitude  \\\n",
       "270  Backcountry touring           3.0       3     1.0       1  46.342085   \n",
       "271  Backcountry touring           3.0       1     NaN       1  46.283985   \n",
       "272  Backcountry touring           2.0       1     1.0       1  46.423847   \n",
       "273     Off-piste skiing           3.0       2     1.0       1  46.708793   \n",
       "274  Backcountry touring           NaN       2     NaN       1  46.571666   \n",
       "\n",
       "     Longitude region  temperature     wind  \n",
       "270   8.207786    sud       -2.800    fort   \n",
       "271   8.066959    sud       -5.230  faible   \n",
       "272   7.690221    sud       -7.540    fort   \n",
       "273   9.103164    est       -3.638  faible   \n",
       "274   8.008533    sud          NaN      NaN  "
      ]
     },
     "execution_count": 150,
     "metadata": {},
     "output_type": "execute_result"
    }
   ],
   "source": [
    "wind_dates = df_wind[df_wind['date'].apply(lambda x: x in accident_dates)][['date','wind']]\n",
    "wind_dates = wind_dates.drop_duplicates(subset=['date'],keep= 'first')\n",
    "# Add wind to the accidents dataframe\n",
    "df_accidents = pd.merge(df_accidents, wind_dates, how = 'outer', on = 'date')\n",
    "df_accidents.tail()"
   ]
  },
  {
   "cell_type": "code",
   "execution_count": 151,
   "metadata": {},
   "outputs": [
    {
     "name": "stdout",
     "output_type": "stream",
     "text": [
      "Approximately 65 percent of avalanche accidents are associated with their wind information\n"
     ]
    }
   ],
   "source": [
    "coverage = (len(df_accidents[~pd.isnull(df_accidents['wind'])])/len(df_accidents))*100\n",
    "print('Approximately %d percent of avalanche accidents are associated with their wind information' %coverage)"
   ]
  },
  {
   "cell_type": "markdown",
   "metadata": {},
   "source": [
    "#### 4: Associate temperature evolution with avalanche accidents data \n",
    "\n",
    "For each avalanche accident, the temperature evolution one week before accidents is extracted."
   ]
  },
  {
   "cell_type": "code",
   "execution_count": 153,
   "metadata": {},
   "outputs": [],
   "source": [
    "# obtain accidents dates\n",
    "temp_evol = []\n",
    "date = []\n",
    "df = df_tmp.drop_duplicates(subset=['date'], keep='first')\n",
    "\n",
    "for index, row in df_tmp.iterrows():\n",
    "    if row.date in accident_dates:\n",
    "        dates = df_tmp.date[df_tmp.date.apply(lambda d: ((row.date-d).days <= 7) & ((row.date-d).days >= 0))].tolist()\n",
    "        temp_evol.append(df.temperature[df.date.apply(lambda d: d in dates)].values)\n",
    "        date.append(row.date)\n",
    "\n",
    "temp_evol_df = pd.DataFrame({'date': date, 'temperature_evolution': temp_evol})\n",
    "df_accidents = pd.merge(df_accidents,temp_evol_df, how = 'outer', on = 'date')"
   ]
  },
  {
   "cell_type": "code",
   "execution_count": null,
   "metadata": {
    "collapsed": true
   },
   "outputs": [],
   "source": [
    "df_accidents.to_excel('df_accidents_final.xlsx')"
   ]
  },
  {
   "cell_type": "markdown",
   "metadata": {},
   "source": [
    "### Accidents analysis:"
   ]
  },
  {
   "cell_type": "markdown",
   "metadata": {},
   "source": [
    "On the news or article: \"Considering avalanche accidents, this is the deadliest year recorded in this canton !!!\"\n",
    "\n",
    "It could be interested to check if wether or not this is true."
   ]
  },
  {
   "cell_type": "code",
   "execution_count": 312,
   "metadata": {
    "scrolled": false
   },
   "outputs": [
    {
     "data": {
      "text/html": [
       "<iframe id=\"igraph\" scrolling=\"no\" style=\"border:none;\" seamless=\"seamless\" src=\"https://plot.ly/~arnaud_les/9.embed\" height=\"525px\" width=\"100%\"></iframe>"
      ],
      "text/plain": [
       "<plotly.tools.PlotlyDisplay object>"
      ]
     },
     "execution_count": 312,
     "metadata": {},
     "output_type": "execute_result"
    }
   ],
   "source": [
    "df_accidents['year'] = df_accidents.date.apply(lambda d: d.year)\n",
    "\n",
    "data = []\n",
    "for canton in df_accidents['Canton'].unique():\n",
    "    trace = Bar(\n",
    "                x = df_accidents['year'].unique(),\n",
    "                y = df_accidents[df_accidents['Canton']== canton].groupby(by='year')['date'].count(),\n",
    "                name = canton\n",
    "                )\n",
    "    data.append(trace)\n",
    "\n",
    "layout = Layout(title=\"Number of deadly avalanches accidents per year\",\n",
    "                xaxis=dict(title='Year'),\n",
    "                yaxis=dict(title='Count'), \n",
    "                barmode = 'stack')\n",
    "fig = Figure(data=data, layout = layout)\n",
    "py.iplot(fig, filename='styled_bar_2')"
   ]
  },
  {
   "cell_type": "markdown",
   "metadata": {},
   "source": [
    "Tendancy: small increase in avalanche accidents along time. This can be due to the fact that backcountry touring and offpiste skiing has become more popular, resulting in an increase in people being at risk to be caught in avalanche.\n",
    "\n",
    "Another interesting feature is the month in which most accidents are likely to happen."
   ]
  },
  {
   "cell_type": "code",
   "execution_count": 313,
   "metadata": {
    "scrolled": false
   },
   "outputs": [
    {
     "data": {
      "image/png": "[encoded data removed]",
      "text/plain": [
       "<matplotlib.figure.Figure at 0x28a71d7d630>"
      ]
     },
     "metadata": {},
     "output_type": "display_data"
    }
   ],
   "source": [
    "fig, ax = plt.subplots(1, sharey=True, figsize = (15,8));\n",
    "\n",
    "df_accidents['month'] = df_accidents.date.apply(lambda d: d.month)\n",
    "sns.countplot(y=\"month\", data=df_accidents, color = 'blue', ax=ax); #order = df_accidents['Aspect'].value_counts().index);\n",
    "ax.set_title('Number of avalanches accidents per month');\n",
    "ax.set_xlabel('Count');\n",
    "ax.set_ylabel('Month');"
   ]
  },
  {
   "cell_type": "markdown",
   "metadata": {},
   "source": [
    "Most of accidents are happening in january and february"
   ]
  },
  {
   "cell_type": "markdown",
   "metadata": {},
   "source": [
    "#### 1: Influence of elevation"
   ]
  },
  {
   "cell_type": "code",
   "execution_count": 314,
   "metadata": {},
   "outputs": [
    {
     "data": {
      "image/png": "[encoded data removed]",
      "text/plain": [
       "<matplotlib.figure.Figure at 0x28a70b29940>"
      ]
     },
     "metadata": {},
     "output_type": "display_data"
    }
   ],
   "source": [
    "fig, ax = plt.subplots(1, sharey=True);\n",
    "\n",
    "df_accidents.Elevation.hist(ax =ax)\n",
    "ax.set_title('Avalanche accidents elevation repartition');\n",
    "ax.set_xlabel('Elevation [m]');\n",
    "ax.set_ylabel('Count');"
   ]
  },
  {
   "cell_type": "markdown",
   "metadata": {},
   "source": [
    "#### 2: Aspect analysis\n",
    "\n",
    "find aspects found more often"
   ]
  },
  {
   "cell_type": "code",
   "execution_count": 315,
   "metadata": {},
   "outputs": [
    {
     "data": {
      "image/png": "[encoded data removed]",
      "text/plain": [
       "<matplotlib.figure.Figure at 0x28a70177a20>"
      ]
     },
     "metadata": {},
     "output_type": "display_data"
    }
   ],
   "source": [
    "order = ['N','NNE','NE','ENE','E','ESE','SE','SSE','S','SSW','SW','WSW','W','WNW','NW','NNW']\n",
    "\n",
    "fig, ax = plt.subplots(1, sharey=True);\n",
    "sns.countplot(x=\"Aspect\", data=df_accidents, ax=ax, color = 'blue', order = order);\n",
    "ax.set_title('Avalanches accidents aspects');\n",
    "ax.set_xlabel('Aspects');\n",
    "ax.set_ylabel('Count');"
   ]
  },
  {
   "cell_type": "markdown",
   "metadata": {},
   "source": [
    "correlate aspects with time of year (for example south aspect correlated with spring avalanches)"
   ]
  },
  {
   "cell_type": "code",
   "execution_count": 316,
   "metadata": {
    "collapsed": true
   },
   "outputs": [],
   "source": [
    "start_date = [9, 0, 3]\n",
    "end_date = [12, 3, 6]\n",
    "vec_season = ['start','middle','end']\n",
    "ratio = ['start_ratio','middle_ratio','end_ratio']\n",
    "name = ['start of season','middle of season','end of season']\n",
    "\n",
    "def get_ratio (start_date, end_date):\n",
    "        \n",
    "    mask = [(date.month > start_date) & (date.month <= end_date) for date in df_accidents['date']]\n",
    "    total = df_accidents[mask]['Aspect'].value_counts().sum()\n",
    "    aspect_ratio = (df_accidents[mask]['Aspect'].value_counts() / total)*100\n",
    "    aspect_ratio = aspect_ratio.reset_index()\n",
    "    aspect_ratio.columns = ['Aspect','Ratio']\n",
    "    \n",
    "    return aspect_ratio"
   ]
  },
  {
   "cell_type": "code",
   "execution_count": 317,
   "metadata": {
    "scrolled": false
   },
   "outputs": [
    {
     "data": {
      "text/html": [
       "<iframe id=\"igraph\" scrolling=\"no\" style=\"border:none;\" seamless=\"seamless\" src=\"https://plot.ly/~arnaud_les/7.embed\" height=\"525px\" width=\"100%\"></iframe>"
      ],
      "text/plain": [
       "<plotly.tools.PlotlyDisplay object>"
      ]
     },
     "execution_count": 317,
     "metadata": {},
     "output_type": "execute_result"
    }
   ],
   "source": [
    "for season_time in range(0,3):\n",
    "    aspect_ratio = get_ratio(start_date[season_time],end_date[season_time])\n",
    "    exec(\"aspect_ratio%d = aspect_ratio\" % (season_time))\n",
    "\n",
    "aspect_ratio_final = aspect_ratio.merge(aspect_ratio0.merge(aspect_ratio1, on = 'Aspect', how = 'outer'), on = 'Aspect', how = 'outer')\n",
    "aspect_ratio_final.columns = ['Aspect','end_ratio','start_ratio','middle_ratio']\n",
    "aspect_ratio_final = aspect_ratio_final.set_index('Aspect').reindex(order) \n",
    "\n",
    "data = []\n",
    "for r in range(3):\n",
    "    trace = Bar(\n",
    "                x = aspect_ratio_final.index.values,\n",
    "                y = aspect_ratio_final[ratio[r]],\n",
    "                name = name[r])\n",
    "    data.append(trace)\n",
    "\n",
    "layout = Layout(title=\"Frequency of avalanche accidents per aspect\",\n",
    "                xaxis=dict(title='Aspect'),\n",
    "                yaxis=dict(title='Frequency'), \n",
    "                )\n",
    "fig = Figure(data=data, layout = layout)\n",
    "py.iplot(fig, filename='styled_bar')"
   ]
  },
  {
   "cell_type": "markdown",
   "metadata": {},
   "source": [
    "We can see that considering south aspect accidents, most of them are at the end of the season"
   ]
  },
  {
   "cell_type": "markdown",
   "metadata": {},
   "source": [
    "####  3: Activity analysis\n",
    "Which activity is more dangerous ?"
   ]
  },
  {
   "cell_type": "code",
   "execution_count": 318,
   "metadata": {},
   "outputs": [
    {
     "data": {
      "image/png": "[encoded data removed]",
      "text/plain": [
       "<matplotlib.figure.Figure at 0x28a71e6e0f0>"
      ]
     },
     "metadata": {},
     "output_type": "display_data"
    }
   ],
   "source": [
    "fig, ax = plt.subplots(1, sharey=True);\n",
    "\n",
    "sns.countplot(x=\"Activity\", data=df_accidents, ax=ax);\n",
    "ax.set_title('Avalanches accidents activity');\n",
    "ax.set_xlabel('Activity');\n",
    "ax.set_ylabel('Count');"
   ]
  },
  {
   "cell_type": "code",
   "execution_count": 319,
   "metadata": {},
   "outputs": [
    {
     "data": {
      "image/png": "[encoded data removed]",
      "text/plain": [
       "<matplotlib.figure.Figure at 0x28a706599e8>"
      ]
     },
     "metadata": {},
     "output_type": "display_data"
    }
   ],
   "source": [
    "fig, ax = plt.subplots(1, sharey=True);\n",
    "\n",
    "sns.countplot(x=\"Activity\", hue = 'Danger level', data=df_accidents, ax=ax);\n",
    "ax.set_title('Avalanches accidents activity per danger level');\n",
    "ax.set_xlabel('Activity');\n",
    "ax.set_ylabel('Count');"
   ]
  },
  {
   "cell_type": "markdown",
   "metadata": {},
   "source": [
    "This graph shows the behaviour of skiiers depend on the activity they are doing.\n",
    "We see that people doing backcountry touring take less risk than people doing off-piste skiing."
   ]
  },
  {
   "cell_type": "markdown",
   "metadata": {},
   "source": [
    "#### 4: Season time analysis:\n",
    "Does most of accidents related to specific dates in year (for example beginning or end of ski season) ?"
   ]
  },
  {
   "cell_type": "code",
   "execution_count": null,
   "metadata": {
    "collapsed": true
   },
   "outputs": [],
   "source": [
    "fig, ax = plt.subplots(1);\n",
    "\n",
    "sns.countplot(x=\"season\", data=df_accidents, ax=ax);\n",
    "ax.set_title('Avalanches accidents season');\n",
    "ax.set_xlabel('Season time');\n",
    "ax.set_ylabel('Count');"
   ]
  },
  {
   "cell_type": "code",
   "execution_count": null,
   "metadata": {
    "collapsed": true
   },
   "outputs": [],
   "source": [
    "fig, ax = plt.subplots(1, figsize = (10,5));\n",
    "\n",
    "sns.countplot(x=\"season\", hue = 'Danger level', data=df_accidents, ax=ax);\n",
    "ax.set_title('Avalanches accidents season for each danger level');\n",
    "ax.set_xlabel('Season');\n",
    "ax.set_ylabel('Count');"
   ]
  },
  {
   "cell_type": "markdown",
   "metadata": {},
   "source": [
    "#### 5: Mortality analysis:\n",
    "mortality correlation with danger levels.\n",
    "Mortality = number killed / number caught"
   ]
  },
  {
   "cell_type": "code",
   "execution_count": 157,
   "metadata": {},
   "outputs": [
    {
     "data": {
      "image/png": "[encoded data removed]",
      "text/plain": [
       "<matplotlib.figure.Figure at 0x25df2c24e10>"
      ]
     },
     "metadata": {},
     "output_type": "display_data"
    }
   ],
   "source": [
    "df_accidents['mortality'] = df_accidents['killed']/df_accidents['caught']\n",
    "survival_rate = df_accidents.groupby(['Activity']).mean()[['killed','mortality']]\n",
    "survival_rate = survival_rate.reset_index()\n",
    "survival_rate.columns = ['Danger level','killed','mortality']\n",
    "sns.factorplot(data = survival_rate, x= 'Danger level', y='mortality', kind=\"bar\");"
   ]
  },
  {
   "cell_type": "markdown",
   "metadata": {},
   "source": [
    "#### Correlation Coefficients:"
   ]
  },
  {
   "cell_type": "code",
   "execution_count": 322,
   "metadata": {
    "collapsed": true
   },
   "outputs": [],
   "source": [
    "labels = ['feature of interest', 'correlation with rank (pearson)','correlation with rank (spearman)','correlation with rank (kendall)']\n",
    "interest_range_top = ['temperature','year','Elevation']\n",
    "corr_danger = {'feature of interest':[], \n",
    "                'correlation with rank (pearson)':[],\n",
    "                'correlation with rank (spearman)':[],\n",
    "                'correlation with rank (kendall)':[]}\n",
    "corr_type = ['pearson', 'spearman','kendall']\n",
    "\n",
    "for ir in interest_range_top:\n",
    "    corr_danger['feature of interest'].append(ir)\n",
    "    for c in corr_type:\n",
    "        corr_danger['correlation with rank ('+str(c)+')'].append(df_accidents['Danger level'].corr(df_accidents[ir], method=str(c)))\n",
    "\n",
    "#putting the information into dataframes and making sure the order is right        \n",
    "corr_danger_df = pd.DataFrame(corr_danger)\n",
    "corr_danger_df = corr_danger_df[labels] "
   ]
  },
  {
   "cell_type": "code",
   "execution_count": 323,
   "metadata": {},
   "outputs": [
    {
     "data": {
      "text/html": [
       "<div>\n",
       "<style>\n",
       "    .dataframe thead tr:only-child th {\n",
       "        text-align: right;\n",
       "    }\n",
       "\n",
       "    .dataframe thead th {\n",
       "        text-align: left;\n",
       "    }\n",
       "\n",
       "    .dataframe tbody tr th {\n",
       "        vertical-align: top;\n",
       "    }\n",
       "</style>\n",
       "<table border=\"1\" class=\"dataframe\">\n",
       "  <thead>\n",
       "    <tr style=\"text-align: right;\">\n",
       "      <th></th>\n",
       "      <th>feature of interest</th>\n",
       "      <th>correlation with rank (pearson)</th>\n",
       "      <th>correlation with rank (spearman)</th>\n",
       "      <th>correlation with rank (kendall)</th>\n",
       "    </tr>\n",
       "  </thead>\n",
       "  <tbody>\n",
       "    <tr>\n",
       "      <th>0</th>\n",
       "      <td>temperature</td>\n",
       "      <td>-0.117028</td>\n",
       "      <td>-0.083167</td>\n",
       "      <td>-0.065646</td>\n",
       "    </tr>\n",
       "    <tr>\n",
       "      <th>1</th>\n",
       "      <td>year</td>\n",
       "      <td>-0.041765</td>\n",
       "      <td>-0.046994</td>\n",
       "      <td>-0.039666</td>\n",
       "    </tr>\n",
       "    <tr>\n",
       "      <th>2</th>\n",
       "      <td>Elevation</td>\n",
       "      <td>-0.189390</td>\n",
       "      <td>-0.198926</td>\n",
       "      <td>-0.161006</td>\n",
       "    </tr>\n",
       "  </tbody>\n",
       "</table>\n",
       "</div>"
      ],
      "text/plain": [
       "  feature of interest  correlation with rank (pearson)  \\\n",
       "0         temperature                        -0.117028   \n",
       "1                year                        -0.041765   \n",
       "2           Elevation                        -0.189390   \n",
       "\n",
       "   correlation with rank (spearman)  correlation with rank (kendall)  \n",
       "0                         -0.083167                        -0.065646  \n",
       "1                         -0.046994                        -0.039666  \n",
       "2                         -0.198926                        -0.161006  "
      ]
     },
     "execution_count": 323,
     "metadata": {},
     "output_type": "execute_result"
    }
   ],
   "source": [
    "corr_danger_df"
   ]
  },
  {
   "cell_type": "markdown",
   "metadata": {},
   "source": [
    "### Propensity score:\n",
    "\n",
    "From our previous analysis, the behaviour of skiiers seems to depend on the activity they are doing.\n",
    "People doing backcountry touring seems to take less risk than people doing off-piste skiing.\n",
    "\n",
    "But do draw valid conclusions, a propensity score matching is done."
   ]
  },
  {
   "cell_type": "code",
   "execution_count": 334,
   "metadata": {
    "collapsed": true
   },
   "outputs": [],
   "source": [
    "from sklearn import linear_model \n",
    "# Groups: activity --> backcountry and hors piste\n",
    "# Label: Danger level \n",
    "# Features --> Number of people in the group\n",
    "#              Elevation \n",
    "#              Aspect\n",
    "#              Temperature\n",
    "\n",
    "# Create dic of aspect to get numerical values from aspect categories\n",
    "aspect_dic = {}\n",
    "for val, aspect in enumerate(order):\n",
    "    aspect_dic[aspect]=val"
   ]
  },
  {
   "cell_type": "code",
   "execution_count": 337,
   "metadata": {},
   "outputs": [
    {
     "data": {
      "text/html": [
       "<div>\n",
       "<style>\n",
       "    .dataframe thead tr:only-child th {\n",
       "        text-align: right;\n",
       "    }\n",
       "\n",
       "    .dataframe thead th {\n",
       "        text-align: left;\n",
       "    }\n",
       "\n",
       "    .dataframe tbody tr th {\n",
       "        vertical-align: top;\n",
       "    }\n",
       "</style>\n",
       "<table border=\"1\" class=\"dataframe\">\n",
       "  <thead>\n",
       "    <tr style=\"text-align: right;\">\n",
       "      <th></th>\n",
       "      <th></th>\n",
       "      <th></th>\n",
       "      <th>Aspect</th>\n",
       "      <th>Elevation</th>\n",
       "      <th>temperature</th>\n",
       "      <th>Danger level</th>\n",
       "    </tr>\n",
       "    <tr>\n",
       "      <th>date</th>\n",
       "      <th>Longitude</th>\n",
       "      <th>Latitude</th>\n",
       "      <th></th>\n",
       "      <th></th>\n",
       "      <th></th>\n",
       "      <th></th>\n",
       "    </tr>\n",
       "  </thead>\n",
       "  <tbody>\n",
       "    <tr>\n",
       "      <th>2002-01-02</th>\n",
       "      <th>7.528077</th>\n",
       "      <th>46.546476</th>\n",
       "      <td>15.0</td>\n",
       "      <td>2360</td>\n",
       "      <td>-8.16</td>\n",
       "      <td>3.0</td>\n",
       "    </tr>\n",
       "    <tr>\n",
       "      <th>2002-01-03</th>\n",
       "      <th>9.815028</th>\n",
       "      <th>46.855337</th>\n",
       "      <td>12.0</td>\n",
       "      <td>2400</td>\n",
       "      <td>-4.40</td>\n",
       "      <td>3.0</td>\n",
       "    </tr>\n",
       "    <tr>\n",
       "      <th rowspan=\"2\" valign=\"top\">2002-01-13</th>\n",
       "      <th>9.830075</th>\n",
       "      <th>46.836754</th>\n",
       "      <td>4.0</td>\n",
       "      <td>2240</td>\n",
       "      <td>-1.44</td>\n",
       "      <td>2.0</td>\n",
       "    </tr>\n",
       "    <tr>\n",
       "      <th>7.818004</th>\n",
       "      <th>46.522445</th>\n",
       "      <td>13.0</td>\n",
       "      <td>2975</td>\n",
       "      <td>-5.85</td>\n",
       "      <td>1.0</td>\n",
       "    </tr>\n",
       "    <tr>\n",
       "      <th>2002-01-30</th>\n",
       "      <th>8.686867</th>\n",
       "      <th>46.696070</th>\n",
       "      <td>15.0</td>\n",
       "      <td>2910</td>\n",
       "      <td>-5.46</td>\n",
       "      <td>2.0</td>\n",
       "    </tr>\n",
       "  </tbody>\n",
       "</table>\n",
       "</div>"
      ],
      "text/plain": [
       "                                Aspect  Elevation  temperature  Danger level\n",
       "date       Longitude Latitude                                               \n",
       "2002-01-02 7.528077  46.546476    15.0       2360        -8.16           3.0\n",
       "2002-01-03 9.815028  46.855337    12.0       2400        -4.40           3.0\n",
       "2002-01-13 9.830075  46.836754     4.0       2240        -1.44           2.0\n",
       "           7.818004  46.522445    13.0       2975        -5.85           1.0\n",
       "2002-01-30 8.686867  46.696070    15.0       2910        -5.46           2.0"
      ]
     },
     "execution_count": 337,
     "metadata": {},
     "output_type": "execute_result"
    }
   ],
   "source": [
    "# Keep only 2 activities\n",
    "df = df_accidents[df_accidents.Activity != 'Transportation']\n",
    "df = df[df.Activity != 'Building']\n",
    "df = df.set_index(['date','Longitude','Latitude'])\n",
    "\n",
    "# Create feature matrix\n",
    "#features = df[['Activity','Aspect','Elevation','temperature','Danger level']]\n",
    "features = df[['Activity','Aspect','Elevation','temperature','Danger level','survival_rate']]\n",
    "features.Aspect = features.Aspect.replace(aspect_dic)\n",
    "features['Activity'] = features['Activity'].apply(lambda x: 1 if x == 'Backcountry touring' else 0)\n",
    "features = features.dropna()\n",
    "\n",
    "# Create data matrix\n",
    "data = features\n",
    "#features = features.drop(['Danger level','Activity'], axis = 1)\n",
    "features = features.drop(['survival_rate','Activity'], axis = 1)\n",
    "features.head()"
   ]
  },
  {
   "cell_type": "markdown",
   "metadata": {},
   "source": [
    "_Use logistic regression to estimate propensity scores for all points in the dataset._"
   ]
  },
  {
   "cell_type": "code",
   "execution_count": 338,
   "metadata": {},
   "outputs": [
    {
     "name": "stdout",
     "output_type": "stream",
     "text": [
      "accuracy:  0.622727272727\n"
     ]
    }
   ],
   "source": [
    "model = linear_model.LogisticRegression()\n",
    "model.fit(features, data.Activity)\n",
    "pred = model.predict(features)\n",
    "\n",
    "accuracy = sum(pred == data.Activity) / len(data.Activity)\n",
    "print('accuracy: ', accuracy)"
   ]
  },
  {
   "cell_type": "markdown",
   "metadata": {},
   "source": [
    "The propensity scores are calculated and added to the dataframe"
   ]
  },
  {
   "cell_type": "code",
   "execution_count": 339,
   "metadata": {},
   "outputs": [
    {
     "data": {
      "text/html": [
       "<div>\n",
       "<style>\n",
       "    .dataframe thead tr:only-child th {\n",
       "        text-align: right;\n",
       "    }\n",
       "\n",
       "    .dataframe thead th {\n",
       "        text-align: left;\n",
       "    }\n",
       "\n",
       "    .dataframe tbody tr th {\n",
       "        vertical-align: top;\n",
       "    }\n",
       "</style>\n",
       "<table border=\"1\" class=\"dataframe\">\n",
       "  <thead>\n",
       "    <tr style=\"text-align: right;\">\n",
       "      <th></th>\n",
       "      <th></th>\n",
       "      <th></th>\n",
       "      <th>Activity</th>\n",
       "      <th>Aspect</th>\n",
       "      <th>Elevation</th>\n",
       "      <th>temperature</th>\n",
       "      <th>Danger level</th>\n",
       "      <th>survival_rate</th>\n",
       "      <th>propensity_score</th>\n",
       "    </tr>\n",
       "    <tr>\n",
       "      <th>date</th>\n",
       "      <th>Longitude</th>\n",
       "      <th>Latitude</th>\n",
       "      <th></th>\n",
       "      <th></th>\n",
       "      <th></th>\n",
       "      <th></th>\n",
       "      <th></th>\n",
       "      <th></th>\n",
       "      <th></th>\n",
       "    </tr>\n",
       "  </thead>\n",
       "  <tbody>\n",
       "    <tr>\n",
       "      <th>2002-01-02</th>\n",
       "      <th>7.528077</th>\n",
       "      <th>46.546476</th>\n",
       "      <td>1</td>\n",
       "      <td>15.0</td>\n",
       "      <td>2360</td>\n",
       "      <td>-8.16</td>\n",
       "      <td>3.0</td>\n",
       "      <td>0.000000</td>\n",
       "      <td>0.353200</td>\n",
       "    </tr>\n",
       "    <tr>\n",
       "      <th>2002-01-03</th>\n",
       "      <th>9.815028</th>\n",
       "      <th>46.855337</th>\n",
       "      <td>0</td>\n",
       "      <td>12.0</td>\n",
       "      <td>2400</td>\n",
       "      <td>-4.40</td>\n",
       "      <td>3.0</td>\n",
       "      <td>0.000000</td>\n",
       "      <td>0.354236</td>\n",
       "    </tr>\n",
       "    <tr>\n",
       "      <th rowspan=\"2\" valign=\"top\">2002-01-13</th>\n",
       "      <th>9.830075</th>\n",
       "      <th>46.836754</th>\n",
       "      <td>0</td>\n",
       "      <td>4.0</td>\n",
       "      <td>2240</td>\n",
       "      <td>-1.44</td>\n",
       "      <td>2.0</td>\n",
       "      <td>0.000000</td>\n",
       "      <td>0.356749</td>\n",
       "    </tr>\n",
       "    <tr>\n",
       "      <th>7.818004</th>\n",
       "      <th>46.522445</th>\n",
       "      <td>1</td>\n",
       "      <td>13.0</td>\n",
       "      <td>2975</td>\n",
       "      <td>-5.85</td>\n",
       "      <td>1.0</td>\n",
       "      <td>0.333333</td>\n",
       "      <td>0.180478</td>\n",
       "    </tr>\n",
       "    <tr>\n",
       "      <th>2002-01-30</th>\n",
       "      <th>8.686867</th>\n",
       "      <th>46.696070</th>\n",
       "      <td>1</td>\n",
       "      <td>15.0</td>\n",
       "      <td>2910</td>\n",
       "      <td>-5.46</td>\n",
       "      <td>2.0</td>\n",
       "      <td>0.000000</td>\n",
       "      <td>0.221261</td>\n",
       "    </tr>\n",
       "  </tbody>\n",
       "</table>\n",
       "</div>"
      ],
      "text/plain": [
       "                                Activity  Aspect  Elevation  temperature  \\\n",
       "date       Longitude Latitude                                              \n",
       "2002-01-02 7.528077  46.546476         1    15.0       2360        -8.16   \n",
       "2002-01-03 9.815028  46.855337         0    12.0       2400        -4.40   \n",
       "2002-01-13 9.830075  46.836754         0     4.0       2240        -1.44   \n",
       "           7.818004  46.522445         1    13.0       2975        -5.85   \n",
       "2002-01-30 8.686867  46.696070         1    15.0       2910        -5.46   \n",
       "\n",
       "                                Danger level  survival_rate  propensity_score  \n",
       "date       Longitude Latitude                                                  \n",
       "2002-01-02 7.528077  46.546476           3.0       0.000000          0.353200  \n",
       "2002-01-03 9.815028  46.855337           3.0       0.000000          0.354236  \n",
       "2002-01-13 9.830075  46.836754           2.0       0.000000          0.356749  \n",
       "           7.818004  46.522445           1.0       0.333333          0.180478  \n",
       "2002-01-30 8.686867  46.696070           2.0       0.000000          0.221261  "
      ]
     },
     "execution_count": 339,
     "metadata": {},
     "output_type": "execute_result"
    }
   ],
   "source": [
    "# Get propensity score\n",
    "pscore = model.predict_proba(features)\n",
    "data = data.assign(propensity_score = pscore[:,0])\n",
    "data.head()"
   ]
  },
  {
   "cell_type": "markdown",
   "metadata": {},
   "source": [
    "The propensity scores are used to match each data point from the backcountry skiing group with exactly one data point from the off_piste skiing group. To do that, we decided to use networkx package and work with DiGraph, which corresponds to directed graph with self loops."
   ]
  },
  {
   "cell_type": "code",
   "execution_count": 340,
   "metadata": {
    "collapsed": true
   },
   "outputs": [],
   "source": [
    "import networkx as nx\n",
    "\n",
    "G = nx.DiGraph()\n",
    "\n",
    "# add a node for each sample\n",
    "for i, row in data.iterrows():\n",
    "    G.add_node(row.name, propensity=row['propensity_score'], Activity=row['Activity'])\n",
    "\n",
    "# add an edge between treated control with propensity diff as weight\n",
    "for n1, att1 in G.nodes(data=True):\n",
    "    for n2, att2 in G.nodes(data=True):\n",
    "        if att1['Activity'] == 1 and att2['Activity'] == 0:\n",
    "            diff = abs(att1['propensity'] - att2['propensity'])\n",
    "            G.add_edge(n1, n2, weight=1-diff)\n",
    "\n",
    "matchings = nx.max_weight_matching(G)"
   ]
  },
  {
   "cell_type": "markdown",
   "metadata": {},
   "source": [
    "Doublons are found for the matching.\n",
    "So we split the matching output to get only unique matches (85 in total, as it should)."
   ]
  },
  {
   "cell_type": "code",
   "execution_count": 341,
   "metadata": {
    "collapsed": true
   },
   "outputs": [],
   "source": [
    "matchings\n",
    "true_matching = {}\n",
    "\n",
    "for treat,no_treat in matchings.items():\n",
    "    if treat not in true_matching.values():\n",
    "        true_matching[treat] = no_treat"
   ]
  },
  {
   "cell_type": "markdown",
   "metadata": {},
   "source": [
    "The new matching is aplied to our dataset."
   ]
  },
  {
   "cell_type": "code",
   "execution_count": 342,
   "metadata": {
    "collapsed": true
   },
   "outputs": [],
   "source": [
    "# Assign propensity score matching to the dataframe to keep only matched datapoints\n",
    "data_offpiste = data.loc[[off_piste for backcountry, off_piste in true_matching.items()]]\n",
    "\n",
    "# Assign propensity score matching to the dataframe to keep only matched datapoints\n",
    "data_backcountry = data.loc[[backcountry for backcountry, off_piste in true_matching.items()]]"
   ]
  },
  {
   "cell_type": "code",
   "execution_count": 332,
   "metadata": {},
   "outputs": [
    {
     "data": {
      "image/png": "[encoded data removed]",
      "text/plain": [
       "<matplotlib.figure.Figure at 0x28a71e615c0>"
      ]
     },
     "metadata": {},
     "output_type": "display_data"
    }
   ],
   "source": [
    "data_new = pd.concat([data_offpiste,data_backcountry])\n",
    "fig, ax = plt.subplots(1,2, sharey=True, figsize=(15,5));\n",
    "\n",
    "sns.countplot(x=\"Activity\", hue = 'Danger level', data=data, ax=ax[0]);\n",
    "ax[0].set_title('Avalanches accidents activity per danger level');\n",
    "ax[0].set_xlabel('Activity');\n",
    "ax[0].set_ylabel('Count');\n",
    "\n",
    "sns.countplot(x=\"Activity\", hue = 'Danger level', data=data_new, ax=ax[1]);\n",
    "ax[1].set_title('Avalanches accidents activity per danger level with propensity score matching');\n",
    "ax[1].set_xlabel('Activity');\n",
    "ax[1].set_ylabel('Count');"
   ]
  },
  {
   "cell_type": "code",
   "execution_count": 343,
   "metadata": {},
   "outputs": [
    {
     "data": {
      "text/html": [
       "<div>\n",
       "<style>\n",
       "    .dataframe thead tr:only-child th {\n",
       "        text-align: right;\n",
       "    }\n",
       "\n",
       "    .dataframe thead th {\n",
       "        text-align: left;\n",
       "    }\n",
       "\n",
       "    .dataframe tbody tr th {\n",
       "        vertical-align: top;\n",
       "    }\n",
       "</style>\n",
       "<table border=\"1\" class=\"dataframe\">\n",
       "  <thead>\n",
       "    <tr style=\"text-align: right;\">\n",
       "      <th></th>\n",
       "      <th>survival_rate</th>\n",
       "      <th>propensity_score</th>\n",
       "    </tr>\n",
       "    <tr>\n",
       "      <th>Activity</th>\n",
       "      <th></th>\n",
       "      <th></th>\n",
       "    </tr>\n",
       "  </thead>\n",
       "  <tbody>\n",
       "    <tr>\n",
       "      <th>0</th>\n",
       "      <td>0.204314</td>\n",
       "      <td>0.408170</td>\n",
       "    </tr>\n",
       "    <tr>\n",
       "      <th>1</th>\n",
       "      <td>0.246405</td>\n",
       "      <td>0.406706</td>\n",
       "    </tr>\n",
       "  </tbody>\n",
       "</table>\n",
       "</div>"
      ],
      "text/plain": [
       "          survival_rate  propensity_score\n",
       "Activity                                 \n",
       "0              0.204314          0.408170\n",
       "1              0.246405          0.406706"
      ]
     },
     "execution_count": 343,
     "metadata": {},
     "output_type": "execute_result"
    }
   ],
   "source": [
    "df_accidents['survival_rate'] = (df_accidents.caught - df_accidents.killed)/df_accidents.caught\n",
    "data_new = pd.concat([data_offpiste,data_backcountry])\n",
    "survival_rate = data_new.groupby(['Activity']).mean()[['survival_rate','propensity_score']]\n",
    "survival_rate.head()"
   ]
  },
  {
   "cell_type": "code",
   "execution_count": 344,
   "metadata": {},
   "outputs": [
    {
     "data": {
      "image/png": "[encoded data removed]",
      "text/plain": [
       "<matplotlib.figure.Figure at 0x28a702a75c0>"
      ]
     },
     "metadata": {},
     "output_type": "display_data"
    }
   ],
   "source": [
    "data_new = pd.concat([data_offpiste,data_backcountry])\n",
    "\n",
    "survival_rate = data_new.groupby(['Activity']).mean()[['survival_rate','propensity_score']]\n",
    "survival_rate = survival_rate.reset_index()\n",
    "survival_rate.columns = ['Activity','survival_rate','propensity_score']\n",
    "sns.factorplot(data = survival_rate, x= 'Activity', y='survival_rate', kind=\"bar\");"
   ]
  },
  {
   "cell_type": "code",
   "execution_count": null,
   "metadata": {
    "collapsed": true
   },
   "outputs": [],
   "source": []
  }
 ],
 "metadata": {
  "kernelspec": {
   "display_name": "Python 3",
   "language": "python",
   "name": "python3"
  },
  "language_info": {
   "codemirror_mode": {
    "name": "ipython",
    "version": 3
   },
   "file_extension": ".py",
   "mimetype": "text/x-python",
   "name": "python",
   "nbconvert_exporter": "python",
   "pygments_lexer": "ipython3",
   "version": "3.6.1"
  }
 },
 "nbformat": 4,
 "nbformat_minor": 2
}
