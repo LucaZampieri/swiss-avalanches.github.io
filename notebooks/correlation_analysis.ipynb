{
 "cells": [
  {
   "cell_type": "markdown",
   "metadata": {},
   "source": [
    "## Correlation analysis:"
   ]
  },
  {
   "cell_type": "code",
   "execution_count": 10,
   "metadata": {
    "collapsed": true
   },
   "outputs": [],
   "source": [
    "import pandas as pd\n",
    "import numpy as np\n",
    "import seaborn as sns\n",
    "import matplotlib.pyplot as plt\n",
    "%matplotlib inline\n",
    "import warnings\n",
    "warnings.filterwarnings('ignore')\n",
    "import plotly.plotly as py\n",
    "from plotly.graph_objs import *"
   ]
  },
  {
   "cell_type": "markdown",
   "metadata": {},
   "source": [
    "##### Data loading:\n",
    "We load accidents, temperature and wind datasets"
   ]
  },
  {
   "cell_type": "code",
   "execution_count": 11,
   "metadata": {
    "collapsed": true
   },
   "outputs": [],
   "source": [
    "df_accidents = pd.read_excel('../data/accidents/df_accidents.xlsx')\n",
    "df_tmp = pd.read_excel('../data/df_tmp.xlsx')\n",
    "df_wind = pd.read_excel('../data/df_wind.xlsx')"
   ]
  },
  {
   "cell_type": "markdown",
   "metadata": {},
   "source": [
    "##### Data cleaning:\n",
    "- some dates were replaced by NaT => retrieve dates for every sample\n",
    "- drop duplicates when two avalanche reports were written the same day: we decided to keep only the first one"
   ]
  },
  {
   "cell_type": "code",
   "execution_count": 12,
   "metadata": {
    "collapsed": true,
    "scrolled": true
   },
   "outputs": [],
   "source": [
    "# remove NaT and replace with the right date\n",
    "for i in range(0,4):\n",
    "    index_NaT = df_tmp[df_tmp['date'].isnull()].index.values\n",
    "    df_tmp.loc[index_NaT,'date'] = df_tmp.loc[index_NaT-1,'date'].values\n",
    "    \n",
    "df_tmp = df_tmp.drop_duplicates(subset=['date','region'], keep='first')#.set_index(['date','region'])\n",
    "\n",
    "# remove NaT and replace with the right date\n",
    "for i in range(0,4):\n",
    "    index_NaT = df_wind[df_wind['date'].isnull()].index.values\n",
    "    df_wind.loc[index_NaT,'date'] = df_wind.loc[index_NaT-1,'date'].values\n",
    "\n",
    "df_wind = df_wind.drop_duplicates(subset=['date','region'], keep='first')#.set_index(['date','region'])"
   ]
  },
  {
   "cell_type": "markdown",
   "metadata": {
    "collapsed": true
   },
   "source": [
    "### Temperature and wind processing:\n",
    "\n",
    "#### 1: Associate each temperature with avalanche accidents data"
   ]
  },
  {
   "cell_type": "code",
   "execution_count": 13,
   "metadata": {
    "scrolled": true
   },
   "outputs": [
    {
     "data": {
      "text/html": [
       "<div>\n",
       "<style>\n",
       "    .dataframe thead tr:only-child th {\n",
       "        text-align: right;\n",
       "    }\n",
       "\n",
       "    .dataframe thead th {\n",
       "        text-align: left;\n",
       "    }\n",
       "\n",
       "    .dataframe tbody tr th {\n",
       "        vertical-align: top;\n",
       "    }\n",
       "</style>\n",
       "<table border=\"1\" class=\"dataframe\">\n",
       "  <thead>\n",
       "    <tr style=\"text-align: right;\">\n",
       "      <th></th>\n",
       "      <th>date</th>\n",
       "      <th>Canton</th>\n",
       "      <th>Starting zone</th>\n",
       "      <th>Elevation</th>\n",
       "      <th>Aspect</th>\n",
       "      <th>Activity</th>\n",
       "      <th>Danger level</th>\n",
       "      <th>caught</th>\n",
       "      <th>buried</th>\n",
       "      <th>killed</th>\n",
       "      <th>Latitude</th>\n",
       "      <th>Longitude</th>\n",
       "      <th>temperature</th>\n",
       "    </tr>\n",
       "  </thead>\n",
       "  <tbody>\n",
       "    <tr>\n",
       "      <th>345</th>\n",
       "      <td>2017-02-04</td>\n",
       "      <td>VS</td>\n",
       "      <td>Binn</td>\n",
       "      <td>2300</td>\n",
       "      <td>S</td>\n",
       "      <td>Backcountry touring</td>\n",
       "      <td>3.0</td>\n",
       "      <td>3</td>\n",
       "      <td>1.0</td>\n",
       "      <td>1</td>\n",
       "      <td>46.342085</td>\n",
       "      <td>8.207786</td>\n",
       "      <td>-2.800</td>\n",
       "    </tr>\n",
       "    <tr>\n",
       "      <th>346</th>\n",
       "      <td>2017-02-05</td>\n",
       "      <td>VS</td>\n",
       "      <td>Ried-Brig</td>\n",
       "      <td>2205</td>\n",
       "      <td>NNE</td>\n",
       "      <td>Backcountry touring</td>\n",
       "      <td>3.0</td>\n",
       "      <td>1</td>\n",
       "      <td>NaN</td>\n",
       "      <td>1</td>\n",
       "      <td>46.283985</td>\n",
       "      <td>8.066959</td>\n",
       "      <td>-5.230</td>\n",
       "    </tr>\n",
       "    <tr>\n",
       "      <th>347</th>\n",
       "      <td>2017-02-22</td>\n",
       "      <td>VS</td>\n",
       "      <td>Leukerbad</td>\n",
       "      <td>3590</td>\n",
       "      <td>S</td>\n",
       "      <td>Backcountry touring</td>\n",
       "      <td>2.0</td>\n",
       "      <td>1</td>\n",
       "      <td>1.0</td>\n",
       "      <td>1</td>\n",
       "      <td>46.423847</td>\n",
       "      <td>7.690221</td>\n",
       "      <td>-7.540</td>\n",
       "    </tr>\n",
       "    <tr>\n",
       "      <th>348</th>\n",
       "      <td>2017-03-02</td>\n",
       "      <td>GR</td>\n",
       "      <td>Obersaxen Mundaun</td>\n",
       "      <td>2273</td>\n",
       "      <td>N</td>\n",
       "      <td>Off-piste skiing</td>\n",
       "      <td>3.0</td>\n",
       "      <td>2</td>\n",
       "      <td>1.0</td>\n",
       "      <td>1</td>\n",
       "      <td>46.708793</td>\n",
       "      <td>9.103164</td>\n",
       "      <td>-3.638</td>\n",
       "    </tr>\n",
       "    <tr>\n",
       "      <th>349</th>\n",
       "      <td>2017-09-21</td>\n",
       "      <td>BE</td>\n",
       "      <td>Grindelwald</td>\n",
       "      <td>3390</td>\n",
       "      <td>E</td>\n",
       "      <td>Backcountry touring</td>\n",
       "      <td>NaN</td>\n",
       "      <td>2</td>\n",
       "      <td>NaN</td>\n",
       "      <td>1</td>\n",
       "      <td>46.571666</td>\n",
       "      <td>8.008533</td>\n",
       "      <td>NaN</td>\n",
       "    </tr>\n",
       "  </tbody>\n",
       "</table>\n",
       "</div>"
      ],
      "text/plain": [
       "          date Canton      Starting zone  Elevation Aspect  \\\n",
       "345 2017-02-04     VS               Binn       2300      S   \n",
       "346 2017-02-05     VS          Ried-Brig       2205    NNE   \n",
       "347 2017-02-22     VS          Leukerbad       3590      S   \n",
       "348 2017-03-02     GR  Obersaxen Mundaun       2273      N   \n",
       "349 2017-09-21     BE        Grindelwald       3390      E   \n",
       "\n",
       "                Activity  Danger level  caught  buried  killed   Latitude  \\\n",
       "345  Backcountry touring           3.0       3     1.0       1  46.342085   \n",
       "346  Backcountry touring           3.0       1     NaN       1  46.283985   \n",
       "347  Backcountry touring           2.0       1     1.0       1  46.423847   \n",
       "348     Off-piste skiing           3.0       2     1.0       1  46.708793   \n",
       "349  Backcountry touring           NaN       2     NaN       1  46.571666   \n",
       "\n",
       "     Longitude  temperature  \n",
       "345   8.207786       -2.800  \n",
       "346   8.066959       -5.230  \n",
       "347   7.690221       -7.540  \n",
       "348   9.103164       -3.638  \n",
       "349   8.008533          NaN  "
      ]
     },
     "execution_count": 13,
     "metadata": {},
     "output_type": "execute_result"
    }
   ],
   "source": [
    "# obtain accidents dates\n",
    "accident_dates = df_accidents.Date.tolist()\n",
    "\n",
    "# keep temperature dates corresponding to accidents dates\n",
    "temp_dates = df_tmp[df_tmp['date'].apply(lambda x: x in accident_dates)][['date','temperature']]\n",
    "temp_dates = temp_dates.drop_duplicates(subset=['date'], keep='first')\n",
    "df_accidents = df_accidents.rename(columns = {'Date':'date'})\n",
    "df_accidents = pd.merge(df_accidents,temp_dates,how = 'outer', on = 'date')\n",
    "\n",
    "mean_temp_gradient = 0.6\n",
    "df_accidents.temperature = df_accidents.temperature + ((2000 - df_accidents.Elevation) / 100)*mean_temp_gradient\n",
    "df_accidents.tail()\n",
    "\n",
    "# TODO: \n",
    "# - include location information to select temperatures"
   ]
  },
  {
   "cell_type": "code",
   "execution_count": 14,
   "metadata": {},
   "outputs": [
    {
     "name": "stdout",
     "output_type": "stream",
     "text": [
      "Approximately 81 percent of avalanche accidents are associated with their temperature\n"
     ]
    }
   ],
   "source": [
    "coverage = (len(df_accidents[~np.isnan(df_accidents['temperature'])])/len(df_accidents[[i.year>2001 for i in df_accidents['date']]]))*100\n",
    "print('Approximately %d percent of avalanche accidents are associated with their temperature' %coverage)"
   ]
  },
  {
   "cell_type": "markdown",
   "metadata": {},
   "source": [
    "#### 2: Associate wind information with avalanche accidents data"
   ]
  },
  {
   "cell_type": "code",
   "execution_count": 15,
   "metadata": {
    "scrolled": true
   },
   "outputs": [
    {
     "data": {
      "text/html": [
       "<div>\n",
       "<style>\n",
       "    .dataframe thead tr:only-child th {\n",
       "        text-align: right;\n",
       "    }\n",
       "\n",
       "    .dataframe thead th {\n",
       "        text-align: left;\n",
       "    }\n",
       "\n",
       "    .dataframe tbody tr th {\n",
       "        vertical-align: top;\n",
       "    }\n",
       "</style>\n",
       "<table border=\"1\" class=\"dataframe\">\n",
       "  <thead>\n",
       "    <tr style=\"text-align: right;\">\n",
       "      <th></th>\n",
       "      <th>date</th>\n",
       "      <th>Canton</th>\n",
       "      <th>Starting zone</th>\n",
       "      <th>Elevation</th>\n",
       "      <th>Aspect</th>\n",
       "      <th>Activity</th>\n",
       "      <th>Danger level</th>\n",
       "      <th>caught</th>\n",
       "      <th>buried</th>\n",
       "      <th>killed</th>\n",
       "      <th>Latitude</th>\n",
       "      <th>Longitude</th>\n",
       "      <th>temperature</th>\n",
       "      <th>wind</th>\n",
       "    </tr>\n",
       "  </thead>\n",
       "  <tbody>\n",
       "    <tr>\n",
       "      <th>386</th>\n",
       "      <td>2017-02-22</td>\n",
       "      <td>VS</td>\n",
       "      <td>Leukerbad</td>\n",
       "      <td>3590</td>\n",
       "      <td>S</td>\n",
       "      <td>Backcountry touring</td>\n",
       "      <td>2.0</td>\n",
       "      <td>1</td>\n",
       "      <td>1.0</td>\n",
       "      <td>1</td>\n",
       "      <td>46.423847</td>\n",
       "      <td>7.690221</td>\n",
       "      <td>-7.540</td>\n",
       "      <td>fort</td>\n",
       "    </tr>\n",
       "    <tr>\n",
       "      <th>387</th>\n",
       "      <td>2017-02-22</td>\n",
       "      <td>VS</td>\n",
       "      <td>Leukerbad</td>\n",
       "      <td>3590</td>\n",
       "      <td>S</td>\n",
       "      <td>Backcountry touring</td>\n",
       "      <td>2.0</td>\n",
       "      <td>1</td>\n",
       "      <td>1.0</td>\n",
       "      <td>1</td>\n",
       "      <td>46.423847</td>\n",
       "      <td>7.690221</td>\n",
       "      <td>-7.540</td>\n",
       "      <td>faible</td>\n",
       "    </tr>\n",
       "    <tr>\n",
       "      <th>388</th>\n",
       "      <td>2017-03-02</td>\n",
       "      <td>GR</td>\n",
       "      <td>Obersaxen Mundaun</td>\n",
       "      <td>2273</td>\n",
       "      <td>N</td>\n",
       "      <td>Off-piste skiing</td>\n",
       "      <td>3.0</td>\n",
       "      <td>2</td>\n",
       "      <td>1.0</td>\n",
       "      <td>1</td>\n",
       "      <td>46.708793</td>\n",
       "      <td>9.103164</td>\n",
       "      <td>-3.638</td>\n",
       "      <td>faible</td>\n",
       "    </tr>\n",
       "    <tr>\n",
       "      <th>389</th>\n",
       "      <td>2017-03-02</td>\n",
       "      <td>GR</td>\n",
       "      <td>Obersaxen Mundaun</td>\n",
       "      <td>2273</td>\n",
       "      <td>N</td>\n",
       "      <td>Off-piste skiing</td>\n",
       "      <td>3.0</td>\n",
       "      <td>2</td>\n",
       "      <td>1.0</td>\n",
       "      <td>1</td>\n",
       "      <td>46.708793</td>\n",
       "      <td>9.103164</td>\n",
       "      <td>-3.638</td>\n",
       "      <td>fort</td>\n",
       "    </tr>\n",
       "    <tr>\n",
       "      <th>390</th>\n",
       "      <td>2017-09-21</td>\n",
       "      <td>BE</td>\n",
       "      <td>Grindelwald</td>\n",
       "      <td>3390</td>\n",
       "      <td>E</td>\n",
       "      <td>Backcountry touring</td>\n",
       "      <td>NaN</td>\n",
       "      <td>2</td>\n",
       "      <td>NaN</td>\n",
       "      <td>1</td>\n",
       "      <td>46.571666</td>\n",
       "      <td>8.008533</td>\n",
       "      <td>NaN</td>\n",
       "      <td>NaN</td>\n",
       "    </tr>\n",
       "  </tbody>\n",
       "</table>\n",
       "</div>"
      ],
      "text/plain": [
       "          date Canton      Starting zone  Elevation Aspect  \\\n",
       "386 2017-02-22     VS          Leukerbad       3590      S   \n",
       "387 2017-02-22     VS          Leukerbad       3590      S   \n",
       "388 2017-03-02     GR  Obersaxen Mundaun       2273      N   \n",
       "389 2017-03-02     GR  Obersaxen Mundaun       2273      N   \n",
       "390 2017-09-21     BE        Grindelwald       3390      E   \n",
       "\n",
       "                Activity  Danger level  caught  buried  killed   Latitude  \\\n",
       "386  Backcountry touring           2.0       1     1.0       1  46.423847   \n",
       "387  Backcountry touring           2.0       1     1.0       1  46.423847   \n",
       "388     Off-piste skiing           3.0       2     1.0       1  46.708793   \n",
       "389     Off-piste skiing           3.0       2     1.0       1  46.708793   \n",
       "390  Backcountry touring           NaN       2     NaN       1  46.571666   \n",
       "\n",
       "     Longitude  temperature     wind  \n",
       "386   7.690221       -7.540    fort   \n",
       "387   7.690221       -7.540  faible   \n",
       "388   9.103164       -3.638  faible   \n",
       "389   9.103164       -3.638    fort   \n",
       "390   8.008533          NaN      NaN  "
      ]
     },
     "execution_count": 15,
     "metadata": {},
     "output_type": "execute_result"
    }
   ],
   "source": [
    "wind_dates = df_wind[df_wind['date'].apply(lambda x: x in accident_dates)][['date','wind']]\n",
    "wind_dates.drop_duplicates(subset=['date'],keep= 'first')\n",
    "# Add wind to the accidents dataframe\n",
    "df_accidents = pd.merge(df_accidents, wind_dates, how = 'outer', on = 'date')\n",
    "df_accidents.tail()"
   ]
  },
  {
   "cell_type": "code",
   "execution_count": 16,
   "metadata": {},
   "outputs": [
    {
     "name": "stdout",
     "output_type": "stream",
     "text": [
      "Approximately 70 percent of avalanche accidents are associated with their wind information\n"
     ]
    }
   ],
   "source": [
    "coverage = (len(df_accidents[~pd.isnull(df_accidents['wind'])])/len(df_accidents[[i.year>2001 for i in df_accidents['date']]]))*100\n",
    "print('Approximately %d percent of avalanche accidents are associated with their wind information' %coverage)"
   ]
  },
  {
   "cell_type": "markdown",
   "metadata": {},
   "source": [
    "### Accidents analysis:"
   ]
  },
  {
   "cell_type": "markdown",
   "metadata": {},
   "source": [
    "On the news or article: \"Considering avalanche accidents, this is the deadliest year recorded in this canton !!!\"\n",
    "\n",
    "It could be interested to check if wether or not this is true."
   ]
  },
  {
   "cell_type": "code",
   "execution_count": 17,
   "metadata": {
    "scrolled": false
   },
   "outputs": [
    {
     "data": {
      "text/html": [
       "<iframe id=\"igraph\" scrolling=\"no\" style=\"border:none;\" seamless=\"seamless\" src=\"https://plot.ly/~arnaud_les/9.embed\" height=\"525px\" width=\"100%\"></iframe>"
      ],
      "text/plain": [
       "<plotly.tools.PlotlyDisplay object>"
      ]
     },
     "execution_count": 17,
     "metadata": {},
     "output_type": "execute_result"
    }
   ],
   "source": [
    "df_accidents['year'] = df_accidents.date.apply(lambda d: d.year)\n",
    "\n",
    "data = []\n",
    "for canton in df_accidents['Canton'].unique():\n",
    "    trace = Bar(\n",
    "                x = df_accidents['year'].unique(),\n",
    "                y = df_accidents[df_accidents['Canton']== canton].groupby(by='year')['date'].count(),\n",
    "                name = canton\n",
    "                )\n",
    "    data.append(trace)\n",
    "\n",
    "layout = Layout(title=\"Number of avalanches accidents per year\",\n",
    "                xaxis=dict(title='Year'),\n",
    "                yaxis=dict(title='Count'), \n",
    "                barmode = 'stack')\n",
    "fig = Figure(data=data, layout = layout)\n",
    "py.iplot(fig, filename='styled_bar_2')"
   ]
  },
  {
   "cell_type": "markdown",
   "metadata": {},
   "source": [
    "Tendancy: small increase in avalanche accidents along time. This can be due to the fact that backcountry touring and offpiste skiing has become more popular, resulting in an increase in people being at risk to be caught in avalanche.\n",
    "\n",
    "Another interesting feature is the month in which most accidents are likely to happen."
   ]
  },
  {
   "cell_type": "code",
   "execution_count": 18,
   "metadata": {
    "scrolled": false
   },
   "outputs": [
    {
     "data": {
      "image/png": "[encoded data removed]",
      "text/plain": [
       "<matplotlib.figure.Figure at 0x24ffd7a8e80>"
      ]
     },
     "metadata": {},
     "output_type": "display_data"
    }
   ],
   "source": [
    "fig, ax = plt.subplots(1, sharey=True, figsize = (15,8));\n",
    "\n",
    "df_accidents['month'] = df_accidents.date.apply(lambda d: d.month)\n",
    "sns.countplot(y=\"month\", data=df_accidents, color = 'blue', ax=ax); #order = df_accidents['Aspect'].value_counts().index);\n",
    "ax.set_title('Number of avalanches accidents per month');\n",
    "ax.set_xlabel('Count');\n",
    "ax.set_ylabel('Month');"
   ]
  },
  {
   "cell_type": "markdown",
   "metadata": {},
   "source": [
    "Most of accidents are happening in january and february"
   ]
  },
  {
   "cell_type": "markdown",
   "metadata": {},
   "source": [
    "#### 1: Influence of elevation"
   ]
  },
  {
   "cell_type": "code",
   "execution_count": 19,
   "metadata": {},
   "outputs": [
    {
     "data": {
      "image/png": "[encoded data removed]",
      "text/plain": [
       "<matplotlib.figure.Figure at 0x24f82d327b8>"
      ]
     },
     "metadata": {},
     "output_type": "display_data"
    }
   ],
   "source": [
    "fig, ax = plt.subplots(1, sharey=True);\n",
    "\n",
    "df_accidents.Elevation.hist(ax =ax)\n",
    "ax.set_title('Avalanche accidents elevation repartition');\n",
    "ax.set_xlabel('Elevation [m]');\n",
    "ax.set_ylabel('Count');"
   ]
  },
  {
   "cell_type": "markdown",
   "metadata": {},
   "source": [
    "#### 2: Aspect analysis\n",
    "\n",
    "find aspects found more often"
   ]
  },
  {
   "cell_type": "code",
   "execution_count": 20,
   "metadata": {},
   "outputs": [
    {
     "data": {
      "image/png": "[encoded data removed]",
      "text/plain": [
       "<matplotlib.figure.Figure at 0x24f830c59b0>"
      ]
     },
     "metadata": {},
     "output_type": "display_data"
    }
   ],
   "source": [
    "order = ['N','NNE','NE','ENE','E','ESE','SE','SSE','S','SSW','SW','WSW','W','WNW','NW','NNW']\n",
    "\n",
    "fig, ax = plt.subplots(1, sharey=True);\n",
    "sns.countplot(x=\"Aspect\", data=df_accidents, ax=ax, color = 'blue', order = order);\n",
    "ax.set_title('Avalanches accidents aspects');\n",
    "ax.set_xlabel('Aspects');\n",
    "ax.set_ylabel('Count');"
   ]
  },
  {
   "cell_type": "markdown",
   "metadata": {},
   "source": [
    "correlate aspects with time of year (for example south aspect correlated with spring avalanches)"
   ]
  },
  {
   "cell_type": "code",
   "execution_count": 23,
   "metadata": {
    "collapsed": true
   },
   "outputs": [],
   "source": [
    "start_date = [9, 0, 3]\n",
    "end_date = [12, 3, 6]\n",
    "vec_season = ['start','middle','end']\n",
    "ratio = ['start_ratio','middle_ratio','end_ratio']\n",
    "name = ['start of season','middle of season','end of season']\n",
    "\n",
    "def get_ratio (start_date, end_date):\n",
    "        \n",
    "    mask = [(date.month > start_date) & (date.month <= end_date) for date in df_accidents['date']]\n",
    "    total = df_accidents[mask]['Aspect'].value_counts().sum()\n",
    "    aspect_ratio = (df_accidents[mask]['Aspect'].value_counts() / total)*100\n",
    "    aspect_ratio = aspect_ratio.reset_index()\n",
    "    aspect_ratio.columns = ['Aspect','Ratio']\n",
    "    \n",
    "    return aspect_ratio"
   ]
  },
  {
   "cell_type": "code",
   "execution_count": 29,
   "metadata": {
    "scrolled": false
   },
   "outputs": [
    {
     "data": {
      "text/html": [
       "<iframe id=\"igraph\" scrolling=\"no\" style=\"border:none;\" seamless=\"seamless\" src=\"https://plot.ly/~arnaud_les/7.embed\" height=\"525px\" width=\"100%\"></iframe>"
      ],
      "text/plain": [
       "<plotly.tools.PlotlyDisplay object>"
      ]
     },
     "execution_count": 29,
     "metadata": {},
     "output_type": "execute_result"
    }
   ],
   "source": [
    "for season_time in range(0,3):\n",
    "    aspect_ratio = get_ratio(start_date[season_time],end_date[season_time])\n",
    "    exec(\"aspect_ratio%d = aspect_ratio\" % (season_time))\n",
    "\n",
    "aspect_ratio_final = aspect_ratio.merge(aspect_ratio0.merge(aspect_ratio1, on = 'Aspect', how = 'outer'), on = 'Aspect', how = 'outer')\n",
    "aspect_ratio_final.columns = ['Aspect','end_ratio','start_ratio','middle_ratio']\n",
    "aspect_ratio_final = aspect_ratio_final.set_index('Aspect').reindex(order) \n",
    "\n",
    "data = []\n",
    "for r in range(3):\n",
    "    trace = Bar(\n",
    "                x = aspect_ratio_final.index.values,\n",
    "                y = aspect_ratio_final[ratio[r]],\n",
    "                name = name[r])\n",
    "    data.append(trace)\n",
    "\n",
    "layout = Layout(title=\"Frequency of avalanche accidents per aspect\",\n",
    "                xaxis=dict(title='Aspect'),\n",
    "                yaxis=dict(title='Frequency'), \n",
    "                )\n",
    "fig = Figure(data=data, layout = layout)\n",
    "py.iplot(fig, filename='styled_bar')"
   ]
  },
  {
   "cell_type": "markdown",
   "metadata": {},
   "source": [
    "We can see that considering south aspect accidents, most of them are at the end of the season"
   ]
  },
  {
   "cell_type": "markdown",
   "metadata": {},
   "source": [
    "####  3: Activity analysis\n",
    "Which activity is more dangerous ?"
   ]
  },
  {
   "cell_type": "code",
   "execution_count": 104,
   "metadata": {},
   "outputs": [
    {
     "data": {
      "image/png": "[encoded data removed]",
      "text/plain": [
       "<matplotlib.figure.Figure at 0x24e916d3668>"
      ]
     },
     "metadata": {},
     "output_type": "display_data"
    }
   ],
   "source": [
    "fig, ax = plt.subplots(1, sharey=True);\n",
    "\n",
    "sns.countplot(x=\"Activity\", data=df_accidents, ax=ax);\n",
    "ax.set_title('Avalanches accidents activity');\n",
    "ax.set_xlabel('Activity');\n",
    "ax.set_ylabel('Count');"
   ]
  },
  {
   "cell_type": "code",
   "execution_count": 118,
   "metadata": {},
   "outputs": [
    {
     "data": {
      "image/png": "[encoded data removed]",
      "text/plain": [
       "<matplotlib.figure.Figure at 0x24e90d76940>"
      ]
     },
     "metadata": {},
     "output_type": "display_data"
    }
   ],
   "source": [
    "fig, ax = plt.subplots(1, sharey=True);\n",
    "\n",
    "sns.countplot(x=\"Activity\", hue = 'Danger level', data=df_accidents, ax=ax);\n",
    "ax.set_title('Avalanches accidents activity per danger level');\n",
    "ax.set_xlabel('Activity');\n",
    "ax.set_ylabel('Count');"
   ]
  },
  {
   "cell_type": "markdown",
   "metadata": {},
   "source": [
    "This graph shows the behaviour of skiiers depend on the activity they are doing.\n",
    "We see that people doing backcountry touring take less risk than people doing off-piste skiing."
   ]
  },
  {
   "cell_type": "markdown",
   "metadata": {},
   "source": [
    "#### 4: Season time analysis:\n",
    "Does most of accidents related to specific dates in year (for example beginning or end of ski season) ?"
   ]
  },
  {
   "cell_type": "code",
   "execution_count": 103,
   "metadata": {},
   "outputs": [
    {
     "data": {
      "image/png": "[encoded data removed]",
      "text/plain": [
       "<matplotlib.figure.Figure at 0x24e9138ebe0>"
      ]
     },
     "metadata": {},
     "output_type": "display_data"
    }
   ],
   "source": [
    "fig, ax = plt.subplots(1);\n",
    "\n",
    "sns.countplot(x=\"season\", data=df_accidents, ax=ax);\n",
    "ax.set_title('Avalanches accidents season');\n",
    "ax.set_xlabel('Season time');\n",
    "ax.set_ylabel('Count');"
   ]
  },
  {
   "cell_type": "code",
   "execution_count": 241,
   "metadata": {},
   "outputs": [
    {
     "data": {
      "image/png": "[encoded data removed]",
      "text/plain": [
       "<matplotlib.figure.Figure at 0x24e90a3b390>"
      ]
     },
     "metadata": {},
     "output_type": "display_data"
    }
   ],
   "source": [
    "fig, ax = plt.subplots(1, figsize = (10,5));\n",
    "\n",
    "sns.countplot(x=\"season\", hue = 'Danger level', data=df_accidents, ax=ax);\n",
    "ax.set_title('Avalanches accidents season for each danger level');\n",
    "ax.set_xlabel('Season');\n",
    "ax.set_ylabel('Count');"
   ]
  },
  {
   "cell_type": "markdown",
   "metadata": {},
   "source": [
    "#### 5: Mortality analysis:\n",
    "mortality correlation with danger levels.\n",
    "Mortality = number killed / number caught"
   ]
  },
  {
   "cell_type": "code",
   "execution_count": 108,
   "metadata": {},
   "outputs": [
    {
     "data": {
      "image/png": "[encoded data removed]",
      "text/plain": [
       "<matplotlib.figure.Figure at 0x24e90948b70>"
      ]
     },
     "metadata": {},
     "output_type": "display_data"
    }
   ],
   "source": [
    "df_accidents['mortality'] = df_accidents['killed']/df_accidents['caught']\n",
    "survival_rate = df_accidents.groupby(['Danger level']).mean()[['killed','mortality']]\n",
    "survival_rate = survival_rate.reset_index()\n",
    "survival_rate.columns = ['Danger level','killed','mortality']\n",
    "sns.factorplot(data = survival_rate, x= 'Danger level', y='mortality', kind=\"bar\");"
   ]
  },
  {
   "cell_type": "markdown",
   "metadata": {},
   "source": [
    "#### Correlation Coefficients:"
   ]
  },
  {
   "cell_type": "code",
   "execution_count": 251,
   "metadata": {
    "collapsed": true
   },
   "outputs": [],
   "source": [
    "labels = ['feature of interest', 'correlation with rank (pearson)','correlation with rank (spearman)','correlation with rank (kendall)']\n",
    "interest_range_top = ['temperature','year','Elevation']\n",
    "corr_danger = {'feature of interest':[], \n",
    "                'correlation with rank (pearson)':[],\n",
    "                'correlation with rank (spearman)':[],\n",
    "                'correlation with rank (kendall)':[]}\n",
    "corr_type = ['pearson', 'spearman','kendall']\n",
    "\n",
    "for ir in interest_range_top:\n",
    "    corr_danger['feature of interest'].append(ir)\n",
    "    for c in corr_type:\n",
    "        corr_danger['correlation with rank ('+str(c)+')'].append(df_accidents['Danger level'].corr(df_accidents[ir], method=str(c)))\n",
    "\n",
    "#putting the information into dataframes and making sure the order is right        \n",
    "corr_danger_df = pd.DataFrame(corr_danger)\n",
    "corr_danger_df = corr_danger_df[labels] "
   ]
  },
  {
   "cell_type": "code",
   "execution_count": 252,
   "metadata": {},
   "outputs": [
    {
     "data": {
      "text/html": [
       "<div>\n",
       "<style>\n",
       "    .dataframe thead tr:only-child th {\n",
       "        text-align: right;\n",
       "    }\n",
       "\n",
       "    .dataframe thead th {\n",
       "        text-align: left;\n",
       "    }\n",
       "\n",
       "    .dataframe tbody tr th {\n",
       "        vertical-align: top;\n",
       "    }\n",
       "</style>\n",
       "<table border=\"1\" class=\"dataframe\">\n",
       "  <thead>\n",
       "    <tr style=\"text-align: right;\">\n",
       "      <th></th>\n",
       "      <th>feature of interest</th>\n",
       "      <th>correlation with rank (pearson)</th>\n",
       "      <th>correlation with rank (spearman)</th>\n",
       "      <th>correlation with rank (kendall)</th>\n",
       "    </tr>\n",
       "  </thead>\n",
       "  <tbody>\n",
       "    <tr>\n",
       "      <th>0</th>\n",
       "      <td>temperature</td>\n",
       "      <td>-0.113327</td>\n",
       "      <td>-0.076135</td>\n",
       "      <td>-0.059540</td>\n",
       "    </tr>\n",
       "    <tr>\n",
       "      <th>1</th>\n",
       "      <td>year</td>\n",
       "      <td>-0.095868</td>\n",
       "      <td>-0.056507</td>\n",
       "      <td>-0.046717</td>\n",
       "    </tr>\n",
       "    <tr>\n",
       "      <th>2</th>\n",
       "      <td>Elevation</td>\n",
       "      <td>-0.201048</td>\n",
       "      <td>-0.209657</td>\n",
       "      <td>-0.167929</td>\n",
       "    </tr>\n",
       "  </tbody>\n",
       "</table>\n",
       "</div>"
      ],
      "text/plain": [
       "  feature of interest  correlation with rank (pearson)  \\\n",
       "0         temperature                        -0.113327   \n",
       "1                year                        -0.095868   \n",
       "2           Elevation                        -0.201048   \n",
       "\n",
       "   correlation with rank (spearman)  correlation with rank (kendall)  \n",
       "0                         -0.076135                        -0.059540  \n",
       "1                         -0.056507                        -0.046717  \n",
       "2                         -0.209657                        -0.167929  "
      ]
     },
     "execution_count": 252,
     "metadata": {},
     "output_type": "execute_result"
    }
   ],
   "source": [
    "corr_danger_df"
   ]
  }
 ],
 "metadata": {
  "kernelspec": {
   "display_name": "Python 3",
   "language": "python",
   "name": "python3"
  },
  "language_info": {
   "codemirror_mode": {
    "name": "ipython",
    "version": 3
   },
   "file_extension": ".py",
   "mimetype": "text/x-python",
   "name": "python",
   "nbconvert_exporter": "python",
   "pygments_lexer": "ipython3",
   "version": "3.6.1"
  }
 },
 "nbformat": 4,
 "nbformat_minor": 2
}
