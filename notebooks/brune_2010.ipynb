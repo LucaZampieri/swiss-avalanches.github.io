{
 "cells": [
  {
   "cell_type": "code",
   "execution_count": 1,
   "metadata": {
    "collapsed": true
   },
   "outputs": [],
   "source": [
    "from pylab import contour\n",
    "import matplotlib.pyplot as plt\n",
    "from PIL import ImageFilter, Image, ImageDraw\n",
    "from datetime import date, timedelta\n",
    "import numpy as np\n",
    "from PIL import Image\n",
    "import cv2\n",
    "from skimage import measure\n",
    "import os\n",
    "\n",
    "%matplotlib inline"
   ]
  },
  {
   "cell_type": "code",
   "execution_count": 2,
   "metadata": {
    "collapsed": true
   },
   "outputs": [],
   "source": [
    "path = '../data/slf/2010/'\n",
    "extensions = ['hn1', 'hn3', 'hsr2000', 'hsr2500', 'hsrel', 'hstop']\n",
    "gif = '/gif' #in 2015 this becomes png\n",
    "language = '/en' #might become de for some given year"
   ]
  },
  {
   "cell_type": "code",
   "execution_count": null,
   "metadata": {
    "collapsed": true
   },
   "outputs": [],
   "source": [
    "from os import listdir\n",
    "from os.path import isfile, join\n",
    "images = []\n",
    "for index, e in enumerate(extensions):\n",
    "    mypath = ''.join([path, e, language, gif])\n",
    "    images.append([f for f in listdir(mypath) if isfile(join(mypath, f))])"
   ]
  },
  {
   "cell_type": "code",
   "execution_count": 17,
   "metadata": {
    "collapsed": true
   },
   "outputs": [],
   "source": [
    "file_names= ['20091216_hn3_en_c.gif', '20091217_hsr2000_en_c.gif', '20091218_hn3_en_c.gif']\n",
    "path = os.path.join(path, 'hn3/en/gif')\n",
    "path = os.path.join(path, file_names[2])\n",
    "img = Image.open(path)\n",
    "img = img.convert('RGB')\n",
    "img_arr = np.array(img)"
   ]
  },
  {
   "cell_type": "code",
   "execution_count": 18,
   "metadata": {},
   "outputs": [
    {
     "data": {
      "text/plain": [
       "(617, 895, 3)"
      ]
     },
     "execution_count": 18,
     "metadata": {},
     "output_type": "execute_result"
    }
   ],
   "source": [
    "img_arr.shape"
   ]
  },
  {
   "cell_type": "code",
   "execution_count": 3,
   "metadata": {
    "collapsed": true
   },
   "outputs": [],
   "source": [
    "leman_west = (6.148131, 46.206042)\n",
    "quatre_canton_north = (8.435177, 47.082150)\n",
    "majeur_east = (8.856851, 46.151857)\n",
    "east_end = (10.472221, 46.544303)\n",
    "constance_nw = (9.035247, 47.812716)\n",
    "jura = (6.879290, 47.352935)\n",
    "\n",
    "\n",
    "\n",
    "raw_red = np.array([255, 0, 0])\n",
    "raw_green = np.array([0, 255, 0])\n",
    "raw_blue = np.array([0, 0, 255])\n",
    "raw_pink = np.array([255, 0, 255])\n",
    "raw_pink = np.array([255, 0, 255])\n",
    "raw_cyan = np.array([0, 255, 255])\n",
    "raw_yellow = np.array([255, 255, 0])\n",
    "\n",
    "\n",
    "landmarks_colors = {\n",
    "    leman_west: raw_red,\n",
    "    quatre_canton_north: raw_green,\n",
    "    majeur_east: raw_blue,\n",
    "    constance_nw: raw_pink,\n",
    "    east_end: raw_yellow,\n",
    "    jura: raw_cyan\n",
    "}\n",
    "\n",
    "def coord_color(img, color):\n",
    "    return np.array(list(zip(*(img == color).all(-1).nonzero())))\n",
    "\n",
    "def open_mask(height, width):\n",
    "    masks_path = '../map-masks/'\n",
    "    mask_name = '{}x{}.gif'.format(height, width)\n",
    "    mask_path = os.path.join(masks_path, mask_name)\n",
    "    mask = Image.open(mask_path)\n",
    "    mask = mask.convert('RGB')\n",
    "    mask = np.array(mask)\n",
    "    \n",
    "    landmarks_pix = {\n",
    "        geo_point: (width, height)\n",
    "        for geo_point, color in landmarks_colors.items()\n",
    "        for height, width in coord_color(mask, color)\n",
    "    }\n",
    "    \n",
    "    binary_mask = (mask != 255).any(-1)  # different of white\n",
    "    return binary_mask, landmarks_pix\n"
   ]
  },
  {
   "cell_type": "code",
   "execution_count": 8,
   "metadata": {},
   "outputs": [
    {
     "data": {
      "image/png": "[encoded data removed]",
      "text/plain": [
       "<matplotlib.figure.Figure at 0x1025b6e48>"
      ]
     },
     "metadata": {},
     "output_type": "display_data"
    }
   ],
   "source": [
    "binary_mask, landmarks_pix = open_mask(640, 928)\n",
    "\n",
    "\n",
    "fix, ax = plt.subplots()\n",
    "ax.imshow(binary_mask);\n",
    "widths, heights = list(zip(*landmarks_pix.values()))\n",
    "ax.scatter(widths, heights);\n",
    "ax.set_title('Mask informations');\n",
    "\n"
   ]
  },
  {
   "cell_type": "code",
   "execution_count": null,
   "metadata": {
    "collapsed": true
   },
   "outputs": [],
   "source": []
  }
 ],
 "metadata": {
  "kernelspec": {
   "display_name": "Python 3",
   "language": "python",
   "name": "python3"
  },
  "language_info": {
   "codemirror_mode": {
    "name": "ipython",
    "version": 3
   },
   "file_extension": ".py",
   "mimetype": "text/x-python",
   "name": "python",
   "nbconvert_exporter": "python",
   "pygments_lexer": "ipython3",
   "version": "3.6.1"
  }
 },
 "nbformat": 4,
 "nbformat_minor": 2
}
